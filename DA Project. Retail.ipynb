{
 "cells": [
  {
   "cell_type": "markdown",
   "metadata": {},
   "source": [
    "# Integrated Project\n"
   ]
  },
  {
   "cell_type": "markdown",
   "metadata": {},
   "source": [
    "## Project description\n",
    "\n",
    "\n",
    "### Description of the data\n",
    "\n",
    "    The dataset contains data on purchases made at the building-material retailer Home World. All of its customers have membership cards. Moreover, they can become members of the store's loyalty program for 20USD per month. The program  includes discounts, information on special offers, and gifts.\n",
    "    \n",
    "### Task\n",
    "\n",
    "    Assess the performance of the chain's sales outlets.\n",
    "\n",
    "- Carry out exploratory data analysis\n",
    "- Assess the performance of the sales outlets\n",
    "- Test statistical hypotheses\n",
    "- Optional: visualize your findings\n",
    "    \n",
    "    File path:  retail_dataset_us.csv , product_codes_us.csv\n",
    "    Presentation link: https://public.tableau.com/views/Finalproject_16283311193400/Dashboard1?:language=en-US&publish=yes&:display_count=n&:origin=viz_share_link\n",
    "    \n",
    "\n",
    "### Project plan\n",
    "1. [Prepare the Data](#introduction)\n",
    "2. [Analyze Data](#introduction1)\n",
    "3. [Statistical Tests](#introduction2)\n",
    "4. [General conclusion](#introduction3)                "
   ]
  },
  {
   "cell_type": "code",
   "execution_count": 1,
   "metadata": {},
   "outputs": [],
   "source": [
    "import pandas as pd\n",
    "import datetime as dt\n",
    "import matplotlib.pyplot as plt\n",
    "import numpy as np\n",
    "import seaborn as sns\n",
    "import math as mth\n",
    "from scipy import stats as st\n"
   ]
  },
  {
   "cell_type": "code",
   "execution_count": 2,
   "metadata": {},
   "outputs": [
    {
     "data": {
      "text/html": [
       "<div>\n",
       "<style scoped>\n",
       "    .dataframe tbody tr th:only-of-type {\n",
       "        vertical-align: middle;\n",
       "    }\n",
       "\n",
       "    .dataframe tbody tr th {\n",
       "        vertical-align: top;\n",
       "    }\n",
       "\n",
       "    .dataframe thead th {\n",
       "        text-align: right;\n",
       "    }\n",
       "</style>\n",
       "<table border=\"1\" class=\"dataframe\">\n",
       "  <thead>\n",
       "    <tr style=\"text-align: right;\">\n",
       "      <th></th>\n",
       "      <th>purchaseid</th>\n",
       "      <th>item_ID</th>\n",
       "      <th>Quantity</th>\n",
       "      <th>purchasedate</th>\n",
       "      <th>CustomerID</th>\n",
       "      <th>loyalty_program</th>\n",
       "      <th>ShopID</th>\n",
       "    </tr>\n",
       "  </thead>\n",
       "  <tbody>\n",
       "    <tr>\n",
       "      <td>0</td>\n",
       "      <td>538280</td>\n",
       "      <td>21873</td>\n",
       "      <td>11</td>\n",
       "      <td>2016-12-10 12:50:00</td>\n",
       "      <td>18427.0</td>\n",
       "      <td>0</td>\n",
       "      <td>Shop 3</td>\n",
       "    </tr>\n",
       "    <tr>\n",
       "      <td>1</td>\n",
       "      <td>538862</td>\n",
       "      <td>22195</td>\n",
       "      <td>0</td>\n",
       "      <td>2016-12-14 14:11:00</td>\n",
       "      <td>22389.0</td>\n",
       "      <td>1</td>\n",
       "      <td>Shop 2</td>\n",
       "    </tr>\n",
       "    <tr>\n",
       "      <td>2</td>\n",
       "      <td>538855</td>\n",
       "      <td>21239</td>\n",
       "      <td>7</td>\n",
       "      <td>2016-12-14 13:50:00</td>\n",
       "      <td>22182.0</td>\n",
       "      <td>1</td>\n",
       "      <td>Shop 3</td>\n",
       "    </tr>\n",
       "    <tr>\n",
       "      <td>3</td>\n",
       "      <td>543543</td>\n",
       "      <td>22271</td>\n",
       "      <td>0</td>\n",
       "      <td>2017-02-09 15:33:00</td>\n",
       "      <td>23522.0</td>\n",
       "      <td>1</td>\n",
       "      <td>Shop 28</td>\n",
       "    </tr>\n",
       "    <tr>\n",
       "      <td>4</td>\n",
       "      <td>543812</td>\n",
       "      <td>79321</td>\n",
       "      <td>0</td>\n",
       "      <td>2017-02-13 14:40:00</td>\n",
       "      <td>23151.0</td>\n",
       "      <td>1</td>\n",
       "      <td>Shop 28</td>\n",
       "    </tr>\n",
       "    <tr>\n",
       "      <td>...</td>\n",
       "      <td>...</td>\n",
       "      <td>...</td>\n",
       "      <td>...</td>\n",
       "      <td>...</td>\n",
       "      <td>...</td>\n",
       "      <td>...</td>\n",
       "      <td>...</td>\n",
       "    </tr>\n",
       "    <tr>\n",
       "      <td>105330</td>\n",
       "      <td>538566</td>\n",
       "      <td>21826</td>\n",
       "      <td>1</td>\n",
       "      <td>2016-12-13 11:21:00</td>\n",
       "      <td>NaN</td>\n",
       "      <td>0</td>\n",
       "      <td>Shop 0</td>\n",
       "    </tr>\n",
       "    <tr>\n",
       "      <td>105331</td>\n",
       "      <td>540247</td>\n",
       "      <td>21742</td>\n",
       "      <td>0</td>\n",
       "      <td>2017-01-05 15:56:00</td>\n",
       "      <td>21143.0</td>\n",
       "      <td>0</td>\n",
       "      <td>Shop 24</td>\n",
       "    </tr>\n",
       "    <tr>\n",
       "      <td>105332</td>\n",
       "      <td>538068</td>\n",
       "      <td>85048</td>\n",
       "      <td>1</td>\n",
       "      <td>2016-12-09 14:05:00</td>\n",
       "      <td>23657.0</td>\n",
       "      <td>1</td>\n",
       "      <td>Shop 16</td>\n",
       "    </tr>\n",
       "    <tr>\n",
       "      <td>105333</td>\n",
       "      <td>538207</td>\n",
       "      <td>22818</td>\n",
       "      <td>11</td>\n",
       "      <td>2016-12-10 11:33:00</td>\n",
       "      <td>18427.0</td>\n",
       "      <td>0</td>\n",
       "      <td>Shop 29</td>\n",
       "    </tr>\n",
       "    <tr>\n",
       "      <td>105334</td>\n",
       "      <td>543977</td>\n",
       "      <td>22384</td>\n",
       "      <td>9</td>\n",
       "      <td>2017-02-14 15:35:00</td>\n",
       "      <td>21294.0</td>\n",
       "      <td>0</td>\n",
       "      <td>Shop 19</td>\n",
       "    </tr>\n",
       "  </tbody>\n",
       "</table>\n",
       "<p>105335 rows × 7 columns</p>\n",
       "</div>"
      ],
      "text/plain": [
       "       purchaseid item_ID  Quantity        purchasedate  CustomerID  \\\n",
       "0          538280   21873        11 2016-12-10 12:50:00     18427.0   \n",
       "1          538862   22195         0 2016-12-14 14:11:00     22389.0   \n",
       "2          538855   21239         7 2016-12-14 13:50:00     22182.0   \n",
       "3          543543   22271         0 2017-02-09 15:33:00     23522.0   \n",
       "4          543812   79321         0 2017-02-13 14:40:00     23151.0   \n",
       "...           ...     ...       ...                 ...         ...   \n",
       "105330     538566   21826         1 2016-12-13 11:21:00         NaN   \n",
       "105331     540247   21742         0 2017-01-05 15:56:00     21143.0   \n",
       "105332     538068   85048         1 2016-12-09 14:05:00     23657.0   \n",
       "105333     538207   22818        11 2016-12-10 11:33:00     18427.0   \n",
       "105334     543977   22384         9 2017-02-14 15:35:00     21294.0   \n",
       "\n",
       "        loyalty_program   ShopID  \n",
       "0                     0   Shop 3  \n",
       "1                     1   Shop 2  \n",
       "2                     1   Shop 3  \n",
       "3                     1  Shop 28  \n",
       "4                     1  Shop 28  \n",
       "...                 ...      ...  \n",
       "105330                0   Shop 0  \n",
       "105331                0  Shop 24  \n",
       "105332                1  Shop 16  \n",
       "105333                0  Shop 29  \n",
       "105334                0  Shop 19  \n",
       "\n",
       "[105335 rows x 7 columns]"
      ]
     },
     "metadata": {},
     "output_type": "display_data"
    },
    {
     "name": "stdout",
     "output_type": "stream",
     "text": [
      "<class 'pandas.core.frame.DataFrame'>\n",
      "RangeIndex: 105335 entries, 0 to 105334\n",
      "Data columns (total 7 columns):\n",
      "purchaseid         105335 non-null object\n",
      "item_ID            105335 non-null object\n",
      "Quantity           105335 non-null int64\n",
      "purchasedate       105335 non-null datetime64[ns]\n",
      "CustomerID         69125 non-null float64\n",
      "loyalty_program    105335 non-null int64\n",
      "ShopID             105335 non-null object\n",
      "dtypes: datetime64[ns](1), float64(1), int64(2), object(3)\n",
      "memory usage: 5.6+ MB\n"
     ]
    },
    {
     "data": {
      "text/html": [
       "<div>\n",
       "<style scoped>\n",
       "    .dataframe tbody tr th:only-of-type {\n",
       "        vertical-align: middle;\n",
       "    }\n",
       "\n",
       "    .dataframe tbody tr th {\n",
       "        vertical-align: top;\n",
       "    }\n",
       "\n",
       "    .dataframe thead th {\n",
       "        text-align: right;\n",
       "    }\n",
       "</style>\n",
       "<table border=\"1\" class=\"dataframe\">\n",
       "  <thead>\n",
       "    <tr style=\"text-align: right;\">\n",
       "      <th></th>\n",
       "      <th>productID</th>\n",
       "      <th>price_per_one</th>\n",
       "    </tr>\n",
       "  </thead>\n",
       "  <tbody>\n",
       "    <tr>\n",
       "      <td>0</td>\n",
       "      <td>10002</td>\n",
       "      <td>0.85</td>\n",
       "    </tr>\n",
       "    <tr>\n",
       "      <td>1</td>\n",
       "      <td>10080</td>\n",
       "      <td>0.85</td>\n",
       "    </tr>\n",
       "    <tr>\n",
       "      <td>2</td>\n",
       "      <td>10120</td>\n",
       "      <td>0.21</td>\n",
       "    </tr>\n",
       "    <tr>\n",
       "      <td>3</td>\n",
       "      <td>10123C</td>\n",
       "      <td>0.65</td>\n",
       "    </tr>\n",
       "    <tr>\n",
       "      <td>4</td>\n",
       "      <td>10124A</td>\n",
       "      <td>0.42</td>\n",
       "    </tr>\n",
       "    <tr>\n",
       "      <td>...</td>\n",
       "      <td>...</td>\n",
       "      <td>...</td>\n",
       "    </tr>\n",
       "    <tr>\n",
       "      <td>3154</td>\n",
       "      <td>gift_0001_20</td>\n",
       "      <td>16.67</td>\n",
       "    </tr>\n",
       "    <tr>\n",
       "      <td>3155</td>\n",
       "      <td>gift_0001_30</td>\n",
       "      <td>25.00</td>\n",
       "    </tr>\n",
       "    <tr>\n",
       "      <td>3156</td>\n",
       "      <td>gift_0001_40</td>\n",
       "      <td>34.04</td>\n",
       "    </tr>\n",
       "    <tr>\n",
       "      <td>3157</td>\n",
       "      <td>gift_0001_50</td>\n",
       "      <td>42.55</td>\n",
       "    </tr>\n",
       "    <tr>\n",
       "      <td>3158</td>\n",
       "      <td>m</td>\n",
       "      <td>2.55</td>\n",
       "    </tr>\n",
       "  </tbody>\n",
       "</table>\n",
       "<p>3159 rows × 2 columns</p>\n",
       "</div>"
      ],
      "text/plain": [
       "         productID  price_per_one\n",
       "0            10002           0.85\n",
       "1            10080           0.85\n",
       "2            10120           0.21\n",
       "3           10123C           0.65\n",
       "4           10124A           0.42\n",
       "...            ...            ...\n",
       "3154  gift_0001_20          16.67\n",
       "3155  gift_0001_30          25.00\n",
       "3156  gift_0001_40          34.04\n",
       "3157  gift_0001_50          42.55\n",
       "3158             m           2.55\n",
       "\n",
       "[3159 rows x 2 columns]"
      ]
     },
     "metadata": {},
     "output_type": "display_data"
    },
    {
     "name": "stdout",
     "output_type": "stream",
     "text": [
      "<class 'pandas.core.frame.DataFrame'>\n",
      "RangeIndex: 3159 entries, 0 to 3158\n",
      "Data columns (total 2 columns):\n",
      "productID        3159 non-null object\n",
      "price_per_one    3159 non-null float64\n",
      "dtypes: float64(1), object(1)\n",
      "memory usage: 49.5+ KB\n"
     ]
    }
   ],
   "source": [
    "retail = pd.read_csv('https://code.s3.yandex.net/datasets/retail_dataset_us.csv',  parse_dates=['purchasedate'], sep=\",\" )\n",
    "product = pd.read_csv('https://code.s3.yandex.net/datasets/product_codes_us.csv',  sep=\";\" )\n",
    "\n",
    "display(retail)\n",
    "retail.info()\n",
    "\n",
    "\n",
    "display(product)\n",
    "product.info()"
   ]
  },
  {
   "cell_type": "markdown",
   "metadata": {},
   "source": [
    "## Prepare the Data <a name=\"introduction\"></a>"
   ]
  },
  {
   "cell_type": "code",
   "execution_count": 3,
   "metadata": {},
   "outputs": [
    {
     "name": "stdout",
     "output_type": "stream",
     "text": [
      "purchaseid             0\n",
      "item_ID                0\n",
      "Quantity               0\n",
      "purchasedate           0\n",
      "CustomerID         36210\n",
      "loyalty_program        0\n",
      "ShopID                 0\n",
      "dtype: int64\n",
      "productID        0\n",
      "price_per_one    0\n",
      "dtype: int64\n"
     ]
    }
   ],
   "source": [
    "print (retail.isnull().sum())\n",
    "print (product.isnull().sum())\n"
   ]
  },
  {
   "cell_type": "markdown",
   "metadata": {},
   "source": [
    "There 36210 nan objects in 'CustomerID' column."
   ]
  },
  {
   "cell_type": "code",
   "execution_count": 4,
   "metadata": {},
   "outputs": [
    {
     "data": {
      "text/plain": [
       "0.3437603835382352"
      ]
     },
     "execution_count": 4,
     "metadata": {},
     "output_type": "execute_result"
    }
   ],
   "source": [
    "retail['CustomerID'].isnull().sum()/retail.shape[0]\n"
   ]
  },
  {
   "cell_type": "markdown",
   "metadata": {},
   "source": [
    "This nan values is 33% of date, its a big part of date, so I can not drop it. The missing data in the CustomerID column may be because the client did not want to share personal information or to make shop account."
   ]
  },
  {
   "cell_type": "code",
   "execution_count": null,
   "metadata": {},
   "outputs": [],
   "source": [
    "print (retail.isnull().sum())\n"
   ]
  },
  {
   "cell_type": "code",
   "execution_count": 6,
   "metadata": {},
   "outputs": [
    {
     "name": "stdout",
     "output_type": "stream",
     "text": [
      "0.009806806854321925\n",
      "0.0\n"
     ]
    }
   ],
   "source": [
    "print (retail.duplicated().sum()/retail.shape[0])\n",
    "print (product.duplicated().sum()/product.shape[0])\n"
   ]
  },
  {
   "cell_type": "markdown",
   "metadata": {},
   "source": [
    "We can drop duplicate rows since they are around 1 % of data - 0.9 % in retail data.  So we drop it."
   ]
  },
  {
   "cell_type": "code",
   "execution_count": 7,
   "metadata": {},
   "outputs": [],
   "source": [
    "retail.drop_duplicates(inplace=True)"
   ]
  },
  {
   "cell_type": "code",
   "execution_count": 8,
   "metadata": {},
   "outputs": [
    {
     "data": {
      "text/html": [
       "<div>\n",
       "<style scoped>\n",
       "    .dataframe tbody tr th:only-of-type {\n",
       "        vertical-align: middle;\n",
       "    }\n",
       "\n",
       "    .dataframe tbody tr th {\n",
       "        vertical-align: top;\n",
       "    }\n",
       "\n",
       "    .dataframe thead th {\n",
       "        text-align: right;\n",
       "    }\n",
       "</style>\n",
       "<table border=\"1\" class=\"dataframe\">\n",
       "  <thead>\n",
       "    <tr style=\"text-align: right;\">\n",
       "      <th></th>\n",
       "      <th>purchaseid</th>\n",
       "      <th>item_ID</th>\n",
       "      <th>Quantity</th>\n",
       "      <th>purchasedate</th>\n",
       "      <th>CustomerID</th>\n",
       "      <th>loyalty_program</th>\n",
       "      <th>ShopID</th>\n",
       "    </tr>\n",
       "  </thead>\n",
       "  <tbody>\n",
       "    <tr>\n",
       "      <td>0</td>\n",
       "      <td>538280</td>\n",
       "      <td>21873</td>\n",
       "      <td>11</td>\n",
       "      <td>2016-12-10 12:50:00</td>\n",
       "      <td>18427.0</td>\n",
       "      <td>0</td>\n",
       "      <td>Shop 3</td>\n",
       "    </tr>\n",
       "    <tr>\n",
       "      <td>1</td>\n",
       "      <td>538862</td>\n",
       "      <td>22195</td>\n",
       "      <td>0</td>\n",
       "      <td>2016-12-14 14:11:00</td>\n",
       "      <td>22389.0</td>\n",
       "      <td>1</td>\n",
       "      <td>Shop 2</td>\n",
       "    </tr>\n",
       "    <tr>\n",
       "      <td>2</td>\n",
       "      <td>538855</td>\n",
       "      <td>21239</td>\n",
       "      <td>7</td>\n",
       "      <td>2016-12-14 13:50:00</td>\n",
       "      <td>22182.0</td>\n",
       "      <td>1</td>\n",
       "      <td>Shop 3</td>\n",
       "    </tr>\n",
       "    <tr>\n",
       "      <td>3</td>\n",
       "      <td>543543</td>\n",
       "      <td>22271</td>\n",
       "      <td>0</td>\n",
       "      <td>2017-02-09 15:33:00</td>\n",
       "      <td>23522.0</td>\n",
       "      <td>1</td>\n",
       "      <td>Shop 28</td>\n",
       "    </tr>\n",
       "    <tr>\n",
       "      <td>4</td>\n",
       "      <td>543812</td>\n",
       "      <td>79321</td>\n",
       "      <td>0</td>\n",
       "      <td>2017-02-13 14:40:00</td>\n",
       "      <td>23151.0</td>\n",
       "      <td>1</td>\n",
       "      <td>Shop 28</td>\n",
       "    </tr>\n",
       "  </tbody>\n",
       "</table>\n",
       "</div>"
      ],
      "text/plain": [
       "  purchaseid item_ID  Quantity        purchasedate  CustomerID  \\\n",
       "0     538280   21873        11 2016-12-10 12:50:00     18427.0   \n",
       "1     538862   22195         0 2016-12-14 14:11:00     22389.0   \n",
       "2     538855   21239         7 2016-12-14 13:50:00     22182.0   \n",
       "3     543543   22271         0 2017-02-09 15:33:00     23522.0   \n",
       "4     543812   79321         0 2017-02-13 14:40:00     23151.0   \n",
       "\n",
       "   loyalty_program   ShopID  \n",
       "0                0   Shop 3  \n",
       "1                1   Shop 2  \n",
       "2                1   Shop 3  \n",
       "3                1  Shop 28  \n",
       "4                1  Shop 28  "
      ]
     },
     "execution_count": 8,
     "metadata": {},
     "output_type": "execute_result"
    }
   ],
   "source": [
    "retail.head()"
   ]
  },
  {
   "cell_type": "code",
   "execution_count": 9,
   "metadata": {},
   "outputs": [
    {
     "data": {
      "text/html": [
       "<div>\n",
       "<style scoped>\n",
       "    .dataframe tbody tr th:only-of-type {\n",
       "        vertical-align: middle;\n",
       "    }\n",
       "\n",
       "    .dataframe tbody tr th {\n",
       "        vertical-align: top;\n",
       "    }\n",
       "\n",
       "    .dataframe thead th {\n",
       "        text-align: right;\n",
       "    }\n",
       "</style>\n",
       "<table border=\"1\" class=\"dataframe\">\n",
       "  <thead>\n",
       "    <tr style=\"text-align: right;\">\n",
       "      <th></th>\n",
       "      <th>productID</th>\n",
       "      <th>price_per_one</th>\n",
       "    </tr>\n",
       "  </thead>\n",
       "  <tbody>\n",
       "    <tr>\n",
       "      <td>0</td>\n",
       "      <td>10002</td>\n",
       "      <td>0.85</td>\n",
       "    </tr>\n",
       "    <tr>\n",
       "      <td>1</td>\n",
       "      <td>10080</td>\n",
       "      <td>0.85</td>\n",
       "    </tr>\n",
       "    <tr>\n",
       "      <td>2</td>\n",
       "      <td>10120</td>\n",
       "      <td>0.21</td>\n",
       "    </tr>\n",
       "    <tr>\n",
       "      <td>3</td>\n",
       "      <td>10123C</td>\n",
       "      <td>0.65</td>\n",
       "    </tr>\n",
       "    <tr>\n",
       "      <td>4</td>\n",
       "      <td>10124A</td>\n",
       "      <td>0.42</td>\n",
       "    </tr>\n",
       "  </tbody>\n",
       "</table>\n",
       "</div>"
      ],
      "text/plain": [
       "  productID  price_per_one\n",
       "0     10002           0.85\n",
       "1     10080           0.85\n",
       "2     10120           0.21\n",
       "3    10123C           0.65\n",
       "4    10124A           0.42"
      ]
     },
     "execution_count": 9,
     "metadata": {},
     "output_type": "execute_result"
    }
   ],
   "source": [
    "product.head()"
   ]
  },
  {
   "cell_type": "code",
   "execution_count": 10,
   "metadata": {},
   "outputs": [],
   "source": [
    "retail.rename(columns = {'item_ID': 'productID'}, inplace = True)"
   ]
  },
  {
   "cell_type": "code",
   "execution_count": 11,
   "metadata": {},
   "outputs": [],
   "source": [
    "data = retail.merge(product, on='productID', how = 'left')"
   ]
  },
  {
   "cell_type": "markdown",
   "metadata": {},
   "source": [
    "Conclusion :\n",
    "- This nan values is 33% of date, but its a big number of date, so I can drop it for clearing results.\n",
    "- We can drop duplicate rows since they are around 1 % of data - 1.4 % in retail data. So we drop it.\n",
    "- We changed type of column 'purchasedate' to datatime."
   ]
  },
  {
   "cell_type": "markdown",
   "metadata": {},
   "source": [
    "## Analyze Data <a name=\"introduction1\"></a>"
   ]
  },
  {
   "cell_type": "code",
   "execution_count": 12,
   "metadata": {},
   "outputs": [],
   "source": [
    "data['total_usd']=data['price_per_one']*data['Quantity']"
   ]
  },
  {
   "cell_type": "code",
   "execution_count": 13,
   "metadata": {},
   "outputs": [
    {
     "data": {
      "text/html": [
       "<div>\n",
       "<style scoped>\n",
       "    .dataframe tbody tr th:only-of-type {\n",
       "        vertical-align: middle;\n",
       "    }\n",
       "\n",
       "    .dataframe tbody tr th {\n",
       "        vertical-align: top;\n",
       "    }\n",
       "\n",
       "    .dataframe thead th {\n",
       "        text-align: right;\n",
       "    }\n",
       "</style>\n",
       "<table border=\"1\" class=\"dataframe\">\n",
       "  <thead>\n",
       "    <tr style=\"text-align: right;\">\n",
       "      <th></th>\n",
       "      <th>purchaseid</th>\n",
       "      <th>productID</th>\n",
       "      <th>Quantity</th>\n",
       "      <th>purchasedate</th>\n",
       "      <th>CustomerID</th>\n",
       "      <th>loyalty_program</th>\n",
       "      <th>ShopID</th>\n",
       "      <th>price_per_one</th>\n",
       "      <th>total_usd</th>\n",
       "    </tr>\n",
       "  </thead>\n",
       "  <tbody>\n",
       "    <tr>\n",
       "      <td>8994</td>\n",
       "      <td>C545033</td>\n",
       "      <td>22838</td>\n",
       "      <td>-97</td>\n",
       "      <td>2017-02-25 16:26:00</td>\n",
       "      <td>19835.0</td>\n",
       "      <td>0</td>\n",
       "      <td>Shop 24</td>\n",
       "      <td>12.75</td>\n",
       "      <td>-1236.75</td>\n",
       "    </tr>\n",
       "    <tr>\n",
       "      <td>49166</td>\n",
       "      <td>C541433</td>\n",
       "      <td>23166</td>\n",
       "      <td>-74216</td>\n",
       "      <td>2017-01-18 10:17:00</td>\n",
       "      <td>18025.0</td>\n",
       "      <td>0</td>\n",
       "      <td>Shop 21</td>\n",
       "      <td>1.04</td>\n",
       "      <td>-77184.64</td>\n",
       "    </tr>\n",
       "  </tbody>\n",
       "</table>\n",
       "</div>"
      ],
      "text/plain": [
       "      purchaseid productID  Quantity        purchasedate  CustomerID  \\\n",
       "8994     C545033     22838       -97 2017-02-25 16:26:00     19835.0   \n",
       "49166    C541433     23166    -74216 2017-01-18 10:17:00     18025.0   \n",
       "\n",
       "       loyalty_program   ShopID  price_per_one  total_usd  \n",
       "8994                 0  Shop 24          12.75   -1236.75  \n",
       "49166                0  Shop 21           1.04  -77184.64  "
      ]
     },
     "execution_count": 13,
     "metadata": {},
     "output_type": "execute_result"
    }
   ],
   "source": [
    "data[data.total_usd < -1000]"
   ]
  },
  {
   "cell_type": "code",
   "execution_count": 14,
   "metadata": {},
   "outputs": [
    {
     "data": {
      "text/html": [
       "<div>\n",
       "<style scoped>\n",
       "    .dataframe tbody tr th:only-of-type {\n",
       "        vertical-align: middle;\n",
       "    }\n",
       "\n",
       "    .dataframe tbody tr th {\n",
       "        vertical-align: top;\n",
       "    }\n",
       "\n",
       "    .dataframe thead th {\n",
       "        text-align: right;\n",
       "    }\n",
       "</style>\n",
       "<table border=\"1\" class=\"dataframe\">\n",
       "  <thead>\n",
       "    <tr style=\"text-align: right;\">\n",
       "      <th></th>\n",
       "      <th>purchaseid</th>\n",
       "      <th>productID</th>\n",
       "      <th>Quantity</th>\n",
       "      <th>purchasedate</th>\n",
       "      <th>CustomerID</th>\n",
       "      <th>loyalty_program</th>\n",
       "      <th>ShopID</th>\n",
       "      <th>price_per_one</th>\n",
       "      <th>total_usd</th>\n",
       "    </tr>\n",
       "  </thead>\n",
       "  <tbody>\n",
       "    <tr>\n",
       "      <td>64</td>\n",
       "      <td>C539944</td>\n",
       "      <td>22776</td>\n",
       "      <td>-2</td>\n",
       "      <td>2016-12-23 11:38:00</td>\n",
       "      <td>20239.0</td>\n",
       "      <td>0</td>\n",
       "      <td>Shop 27</td>\n",
       "      <td>8.50</td>\n",
       "      <td>-17.00</td>\n",
       "    </tr>\n",
       "    <tr>\n",
       "      <td>112</td>\n",
       "      <td>C542426</td>\n",
       "      <td>22418</td>\n",
       "      <td>-25</td>\n",
       "      <td>2017-01-28 09:32:00</td>\n",
       "      <td>19825.0</td>\n",
       "      <td>0</td>\n",
       "      <td>Shop 27</td>\n",
       "      <td>0.85</td>\n",
       "      <td>-21.25</td>\n",
       "    </tr>\n",
       "    <tr>\n",
       "      <td>253</td>\n",
       "      <td>C539726</td>\n",
       "      <td>22791</td>\n",
       "      <td>-11</td>\n",
       "      <td>2016-12-21 14:24:00</td>\n",
       "      <td>22686.0</td>\n",
       "      <td>1</td>\n",
       "      <td>Shop 3</td>\n",
       "      <td>1.06</td>\n",
       "      <td>-11.66</td>\n",
       "    </tr>\n",
       "    <tr>\n",
       "      <td>344</td>\n",
       "      <td>C544034</td>\n",
       "      <td>21878</td>\n",
       "      <td>-2</td>\n",
       "      <td>2017-02-15 11:28:00</td>\n",
       "      <td>20380.0</td>\n",
       "      <td>0</td>\n",
       "      <td>Shop 9</td>\n",
       "      <td>0.72</td>\n",
       "      <td>-1.44</td>\n",
       "    </tr>\n",
       "    <tr>\n",
       "      <td>458</td>\n",
       "      <td>C539667</td>\n",
       "      <td>21285</td>\n",
       "      <td>-25</td>\n",
       "      <td>2016-12-21 10:47:00</td>\n",
       "      <td>18827.0</td>\n",
       "      <td>0</td>\n",
       "      <td>Shop 4</td>\n",
       "      <td>0.65</td>\n",
       "      <td>-16.25</td>\n",
       "    </tr>\n",
       "    <tr>\n",
       "      <td>...</td>\n",
       "      <td>...</td>\n",
       "      <td>...</td>\n",
       "      <td>...</td>\n",
       "      <td>...</td>\n",
       "      <td>...</td>\n",
       "      <td>...</td>\n",
       "      <td>...</td>\n",
       "      <td>...</td>\n",
       "      <td>...</td>\n",
       "    </tr>\n",
       "    <tr>\n",
       "      <td>104132</td>\n",
       "      <td>C541650</td>\n",
       "      <td>M</td>\n",
       "      <td>-2</td>\n",
       "      <td>2017-01-20 11:44:00</td>\n",
       "      <td>NaN</td>\n",
       "      <td>0</td>\n",
       "      <td>Shop 0</td>\n",
       "      <td>0.19</td>\n",
       "      <td>-0.38</td>\n",
       "    </tr>\n",
       "    <tr>\n",
       "      <td>104143</td>\n",
       "      <td>C540246</td>\n",
       "      <td>79320</td>\n",
       "      <td>-2</td>\n",
       "      <td>2017-01-05 15:43:00</td>\n",
       "      <td>18760.0</td>\n",
       "      <td>0</td>\n",
       "      <td>Shop 19</td>\n",
       "      <td>4.95</td>\n",
       "      <td>-9.90</td>\n",
       "    </tr>\n",
       "    <tr>\n",
       "      <td>104180</td>\n",
       "      <td>C539467</td>\n",
       "      <td>22801</td>\n",
       "      <td>-2</td>\n",
       "      <td>2016-12-19 12:46:00</td>\n",
       "      <td>20723.0</td>\n",
       "      <td>0</td>\n",
       "      <td>Shop 13</td>\n",
       "      <td>3.39</td>\n",
       "      <td>-6.78</td>\n",
       "    </tr>\n",
       "    <tr>\n",
       "      <td>104217</td>\n",
       "      <td>C540847</td>\n",
       "      <td>22197</td>\n",
       "      <td>-3</td>\n",
       "      <td>2017-01-11 17:35:00</td>\n",
       "      <td>19137.0</td>\n",
       "      <td>0</td>\n",
       "      <td>Shop 0</td>\n",
       "      <td>0.72</td>\n",
       "      <td>-2.16</td>\n",
       "    </tr>\n",
       "    <tr>\n",
       "      <td>104267</td>\n",
       "      <td>C540164</td>\n",
       "      <td>21144</td>\n",
       "      <td>-13</td>\n",
       "      <td>2017-01-05 12:02:00</td>\n",
       "      <td>20590.0</td>\n",
       "      <td>0</td>\n",
       "      <td>Shop 16</td>\n",
       "      <td>0.38</td>\n",
       "      <td>-4.94</td>\n",
       "    </tr>\n",
       "  </tbody>\n",
       "</table>\n",
       "<p>1455 rows × 9 columns</p>\n",
       "</div>"
      ],
      "text/plain": [
       "       purchaseid productID  Quantity        purchasedate  CustomerID  \\\n",
       "64        C539944     22776        -2 2016-12-23 11:38:00     20239.0   \n",
       "112       C542426     22418       -25 2017-01-28 09:32:00     19825.0   \n",
       "253       C539726     22791       -11 2016-12-21 14:24:00     22686.0   \n",
       "344       C544034     21878        -2 2017-02-15 11:28:00     20380.0   \n",
       "458       C539667     21285       -25 2016-12-21 10:47:00     18827.0   \n",
       "...           ...       ...       ...                 ...         ...   \n",
       "104132    C541650         M        -2 2017-01-20 11:44:00         NaN   \n",
       "104143    C540246     79320        -2 2017-01-05 15:43:00     18760.0   \n",
       "104180    C539467     22801        -2 2016-12-19 12:46:00     20723.0   \n",
       "104217    C540847     22197        -3 2017-01-11 17:35:00     19137.0   \n",
       "104267    C540164     21144       -13 2017-01-05 12:02:00     20590.0   \n",
       "\n",
       "        loyalty_program   ShopID  price_per_one  total_usd  \n",
       "64                    0  Shop 27           8.50     -17.00  \n",
       "112                   0  Shop 27           0.85     -21.25  \n",
       "253                   1   Shop 3           1.06     -11.66  \n",
       "344                   0   Shop 9           0.72      -1.44  \n",
       "458                   0   Shop 4           0.65     -16.25  \n",
       "...                 ...      ...            ...        ...  \n",
       "104132                0   Shop 0           0.19      -0.38  \n",
       "104143                0  Shop 19           4.95      -9.90  \n",
       "104180                0  Shop 13           3.39      -6.78  \n",
       "104217                0   Shop 0           0.72      -2.16  \n",
       "104267                0  Shop 16           0.38      -4.94  \n",
       "\n",
       "[1455 rows x 9 columns]"
      ]
     },
     "execution_count": 14,
     "metadata": {},
     "output_type": "execute_result"
    }
   ],
   "source": [
    "data[data.total_usd < 0]"
   ]
  },
  {
   "cell_type": "markdown",
   "metadata": {},
   "source": [
    "All operations with \"С\" at the beginning of the number is a return."
   ]
  },
  {
   "cell_type": "code",
   "execution_count": 15,
   "metadata": {},
   "outputs": [],
   "source": [
    "Index_names = data[(data['purchaseid']=='C541433')|(data['purchaseid']=='541431')].index\n",
    "data.drop(Index_names, inplace = True)"
   ]
  },
  {
   "cell_type": "markdown",
   "metadata": {},
   "source": [
    "Purchase with id - C541433, 538526 have anormal quantity of items. \n",
    "so I drop it"
   ]
  },
  {
   "cell_type": "code",
   "execution_count": 16,
   "metadata": {},
   "outputs": [
    {
     "data": {
      "text/plain": [
       "Timestamp('2016-12-01 08:26:00')"
      ]
     },
     "execution_count": 16,
     "metadata": {},
     "output_type": "execute_result"
    }
   ],
   "source": [
    "data['purchasedate'].min()"
   ]
  },
  {
   "cell_type": "code",
   "execution_count": 17,
   "metadata": {},
   "outputs": [
    {
     "data": {
      "text/plain": [
       "Timestamp('2017-02-28 17:04:00')"
      ]
     },
     "execution_count": 17,
     "metadata": {},
     "output_type": "execute_result"
    }
   ],
   "source": [
    "data['purchasedate'].max()"
   ]
  },
  {
   "cell_type": "code",
   "execution_count": 18,
   "metadata": {},
   "outputs": [
    {
     "data": {
      "text/plain": [
       "Timedelta('89 days 08:38:00')"
      ]
     },
     "execution_count": 18,
     "metadata": {},
     "output_type": "execute_result"
    }
   ],
   "source": [
    "data['purchasedate'].max()-retail['purchasedate'].min()\\\n"
   ]
  },
  {
   "cell_type": "markdown",
   "metadata": {},
   "source": [
    "Timeline of data is from 2016-12-01 08:26:00 until 2017-02-28 17:01:00, was during for 89 days 08:35:00. "
   ]
  },
  {
   "cell_type": "code",
   "execution_count": 19,
   "metadata": {},
   "outputs": [
    {
     "name": "stdout",
     "output_type": "stream",
     "text": [
      "count       31.000000\n",
      "mean      3364.516129\n",
      "std       6490.609719\n",
      "min       1650.000000\n",
      "25%       1979.500000\n",
      "50%       2274.000000\n",
      "75%       2406.500000\n",
      "max      38303.000000\n",
      "Name: purchaseid, dtype: float64\n",
      "ShopID\n",
      "Shop 0     38303\n",
      "Shop 1      2689\n",
      "Shop 15     2678\n",
      "Shop 24     2624\n",
      "Shop 22     2538\n",
      "Shop 5      2469\n",
      "Shop 9      2447\n",
      "Shop 13     2411\n",
      "Shop 20     2402\n",
      "Shop 14     2366\n",
      "Shop 30     2359\n",
      "Shop 7      2311\n",
      "Shop 28     2306\n",
      "Shop 26     2299\n",
      "Shop 27     2296\n",
      "Shop 11     2274\n",
      "Shop 2      2224\n",
      "Shop 19     2209\n",
      "Shop 29     2181\n",
      "Shop 10     2181\n",
      "Shop 17     2164\n",
      "Shop 23     2041\n",
      "Shop 18     1995\n",
      "Shop 4      1964\n",
      "Shop 8      1963\n",
      "Shop 16     1920\n",
      "Shop 25     1902\n",
      "Shop 12     1758\n",
      "Shop 3      1703\n",
      "Shop 6      1673\n",
      "Shop 21     1650\n",
      "Name: purchaseid, dtype: int64\n"
     ]
    }
   ],
   "source": [
    "data_shop=data.groupby('ShopID').purchaseid.count().sort_values(ascending=False)\n",
    "\n",
    "print (data_shop.describe())\n",
    "print(data_shop)\n"
   ]
  },
  {
   "cell_type": "code",
   "execution_count": 20,
   "metadata": {
    "scrolled": true
   },
   "outputs": [
    {
     "data": {
      "text/html": [
       "<div>\n",
       "<style scoped>\n",
       "    .dataframe tbody tr th:only-of-type {\n",
       "        vertical-align: middle;\n",
       "    }\n",
       "\n",
       "    .dataframe tbody tr th {\n",
       "        vertical-align: top;\n",
       "    }\n",
       "\n",
       "    .dataframe thead th {\n",
       "        text-align: right;\n",
       "    }\n",
       "</style>\n",
       "<table border=\"1\" class=\"dataframe\">\n",
       "  <thead>\n",
       "    <tr style=\"text-align: right;\">\n",
       "      <th></th>\n",
       "      <th>purchaseid</th>\n",
       "      <th>productID</th>\n",
       "      <th>Quantity</th>\n",
       "      <th>purchasedate</th>\n",
       "      <th>CustomerID</th>\n",
       "      <th>loyalty_program</th>\n",
       "      <th>ShopID</th>\n",
       "      <th>price_per_one</th>\n",
       "      <th>total_usd</th>\n",
       "    </tr>\n",
       "  </thead>\n",
       "  <tbody>\n",
       "    <tr>\n",
       "      <td>6</td>\n",
       "      <td>540468</td>\n",
       "      <td>22189</td>\n",
       "      <td>0</td>\n",
       "      <td>2017-01-07 13:55:00</td>\n",
       "      <td>NaN</td>\n",
       "      <td>0</td>\n",
       "      <td>Shop 0</td>\n",
       "      <td>2.31</td>\n",
       "      <td>0.00</td>\n",
       "    </tr>\n",
       "    <tr>\n",
       "      <td>7</td>\n",
       "      <td>541424</td>\n",
       "      <td>79321</td>\n",
       "      <td>1</td>\n",
       "      <td>2017-01-17 17:57:00</td>\n",
       "      <td>NaN</td>\n",
       "      <td>0</td>\n",
       "      <td>Shop 0</td>\n",
       "      <td>0.00</td>\n",
       "      <td>0.00</td>\n",
       "    </tr>\n",
       "    <tr>\n",
       "      <td>8</td>\n",
       "      <td>538883</td>\n",
       "      <td>22891</td>\n",
       "      <td>0</td>\n",
       "      <td>2016-12-14 15:56:00</td>\n",
       "      <td>NaN</td>\n",
       "      <td>0</td>\n",
       "      <td>Shop 0</td>\n",
       "      <td>3.75</td>\n",
       "      <td>0.00</td>\n",
       "    </tr>\n",
       "    <tr>\n",
       "      <td>11</td>\n",
       "      <td>541696</td>\n",
       "      <td>22197</td>\n",
       "      <td>4</td>\n",
       "      <td>2017-01-20 18:08:00</td>\n",
       "      <td>NaN</td>\n",
       "      <td>0</td>\n",
       "      <td>Shop 0</td>\n",
       "      <td>0.72</td>\n",
       "      <td>2.88</td>\n",
       "    </tr>\n",
       "    <tr>\n",
       "      <td>16</td>\n",
       "      <td>539744</td>\n",
       "      <td>22300</td>\n",
       "      <td>5</td>\n",
       "      <td>2016-12-21 15:21:00</td>\n",
       "      <td>NaN</td>\n",
       "      <td>0</td>\n",
       "      <td>Shop 0</td>\n",
       "      <td>0.00</td>\n",
       "      <td>0.00</td>\n",
       "    </tr>\n",
       "  </tbody>\n",
       "</table>\n",
       "</div>"
      ],
      "text/plain": [
       "   purchaseid productID  Quantity        purchasedate  CustomerID  \\\n",
       "6      540468     22189         0 2017-01-07 13:55:00         NaN   \n",
       "7      541424     79321         1 2017-01-17 17:57:00         NaN   \n",
       "8      538883     22891         0 2016-12-14 15:56:00         NaN   \n",
       "11     541696     22197         4 2017-01-20 18:08:00         NaN   \n",
       "16     539744     22300         5 2016-12-21 15:21:00         NaN   \n",
       "\n",
       "    loyalty_program  ShopID  price_per_one  total_usd  \n",
       "6                 0  Shop 0           2.31       0.00  \n",
       "7                 0  Shop 0           0.00       0.00  \n",
       "8                 0  Shop 0           3.75       0.00  \n",
       "11                0  Shop 0           0.72       2.88  \n",
       "16                0  Shop 0           0.00       0.00  "
      ]
     },
     "execution_count": 20,
     "metadata": {},
     "output_type": "execute_result"
    }
   ],
   "source": [
    "data[data.ShopID=='Shop 0'].head()"
   ]
  },
  {
   "cell_type": "code",
   "execution_count": 21,
   "metadata": {},
   "outputs": [
    {
     "data": {
      "text/html": [
       "<div>\n",
       "<style scoped>\n",
       "    .dataframe tbody tr th:only-of-type {\n",
       "        vertical-align: middle;\n",
       "    }\n",
       "\n",
       "    .dataframe tbody tr th {\n",
       "        vertical-align: top;\n",
       "    }\n",
       "\n",
       "    .dataframe thead th {\n",
       "        text-align: right;\n",
       "    }\n",
       "</style>\n",
       "<table border=\"1\" class=\"dataframe\">\n",
       "  <thead>\n",
       "    <tr style=\"text-align: right;\">\n",
       "      <th></th>\n",
       "      <th>Quantity</th>\n",
       "      <th>CustomerID</th>\n",
       "      <th>loyalty_program</th>\n",
       "      <th>price_per_one</th>\n",
       "      <th>total_usd</th>\n",
       "    </tr>\n",
       "  </thead>\n",
       "  <tbody>\n",
       "    <tr>\n",
       "      <td>count</td>\n",
       "      <td>38303.000000</td>\n",
       "      <td>2351.000000</td>\n",
       "      <td>38303.000000</td>\n",
       "      <td>38303.000000</td>\n",
       "      <td>38303.000000</td>\n",
       "    </tr>\n",
       "    <tr>\n",
       "      <td>mean</td>\n",
       "      <td>2.216093</td>\n",
       "      <td>21019.495534</td>\n",
       "      <td>0.021852</td>\n",
       "      <td>1.885145</td>\n",
       "      <td>2.745779</td>\n",
       "    </tr>\n",
       "    <tr>\n",
       "      <td>std</td>\n",
       "      <td>40.348831</td>\n",
       "      <td>1825.837416</td>\n",
       "      <td>0.146202</td>\n",
       "      <td>2.639295</td>\n",
       "      <td>11.984595</td>\n",
       "    </tr>\n",
       "    <tr>\n",
       "      <td>min</td>\n",
       "      <td>-2601.000000</td>\n",
       "      <td>18026.000000</td>\n",
       "      <td>0.000000</td>\n",
       "      <td>0.000000</td>\n",
       "      <td>-61.250000</td>\n",
       "    </tr>\n",
       "    <tr>\n",
       "      <td>25%</td>\n",
       "      <td>0.000000</td>\n",
       "      <td>19521.000000</td>\n",
       "      <td>0.000000</td>\n",
       "      <td>0.420000</td>\n",
       "      <td>0.000000</td>\n",
       "    </tr>\n",
       "    <tr>\n",
       "      <td>50%</td>\n",
       "      <td>0.000000</td>\n",
       "      <td>20892.000000</td>\n",
       "      <td>0.000000</td>\n",
       "      <td>1.250000</td>\n",
       "      <td>0.000000</td>\n",
       "    </tr>\n",
       "    <tr>\n",
       "      <td>75%</td>\n",
       "      <td>2.000000</td>\n",
       "      <td>22605.000000</td>\n",
       "      <td>0.000000</td>\n",
       "      <td>2.460000</td>\n",
       "      <td>1.950000</td>\n",
       "    </tr>\n",
       "    <tr>\n",
       "      <td>max</td>\n",
       "      <td>5567.000000</td>\n",
       "      <td>23908.000000</td>\n",
       "      <td>1.000000</td>\n",
       "      <td>125.000000</td>\n",
       "      <td>643.670000</td>\n",
       "    </tr>\n",
       "  </tbody>\n",
       "</table>\n",
       "</div>"
      ],
      "text/plain": [
       "           Quantity    CustomerID  loyalty_program  price_per_one  \\\n",
       "count  38303.000000   2351.000000     38303.000000   38303.000000   \n",
       "mean       2.216093  21019.495534         0.021852       1.885145   \n",
       "std       40.348831   1825.837416         0.146202       2.639295   \n",
       "min    -2601.000000  18026.000000         0.000000       0.000000   \n",
       "25%        0.000000  19521.000000         0.000000       0.420000   \n",
       "50%        0.000000  20892.000000         0.000000       1.250000   \n",
       "75%        2.000000  22605.000000         0.000000       2.460000   \n",
       "max     5567.000000  23908.000000         1.000000     125.000000   \n",
       "\n",
       "          total_usd  \n",
       "count  38303.000000  \n",
       "mean       2.745779  \n",
       "std       11.984595  \n",
       "min      -61.250000  \n",
       "25%        0.000000  \n",
       "50%        0.000000  \n",
       "75%        1.950000  \n",
       "max      643.670000  "
      ]
     },
     "execution_count": 21,
     "metadata": {},
     "output_type": "execute_result"
    }
   ],
   "source": [
    "data[data.ShopID=='Shop 0'].describe()"
   ]
  },
  {
   "cell_type": "code",
   "execution_count": 22,
   "metadata": {},
   "outputs": [],
   "source": [
    "index_names = data[data.ShopID=='Shop 0'].index\n",
    "data.drop(index_names, inplace = True)\n"
   ]
  },
  {
   "cell_type": "markdown",
   "metadata": {},
   "source": [
    "Shop 0 is a custumers with not ID. This data does not contain information that is useful to us, so i drop it."
   ]
  },
  {
   "cell_type": "markdown",
   "metadata": {},
   "source": [
    "Sales are evenly distributed among the other shops."
   ]
  },
  {
   "cell_type": "code",
   "execution_count": 24,
   "metadata": {},
   "outputs": [
    {
     "data": {
      "text/plain": [
       "ShopID\n",
       "Shop 10    0.033929\n",
       "Shop 6     0.031680\n",
       "Shop 27    0.028310\n",
       "Shop 17    0.026340\n",
       "Shop 24    0.025915\n",
       "Shop 19    0.025804\n",
       "Shop 16    0.025521\n",
       "Shop 22    0.025217\n",
       "Shop 28    0.025152\n",
       "Shop 23    0.024988\n",
       "Shop 4     0.022403\n",
       "Shop 18    0.022055\n",
       "Shop 29    0.021091\n",
       "Shop 7     0.020338\n",
       "Shop 9     0.020025\n",
       "Shop 12    0.019909\n",
       "Shop 8     0.019868\n",
       "Shop 21    0.018788\n",
       "Shop 11    0.018030\n",
       "Shop 13    0.017835\n",
       "Shop 26    0.017399\n",
       "Shop 2     0.016187\n",
       "Shop 15    0.015310\n",
       "Shop 30    0.015261\n",
       "Shop 25    0.014196\n",
       "Shop 14    0.013948\n",
       "Shop 5     0.012961\n",
       "Shop 20    0.012073\n",
       "Shop 1     0.011900\n",
       "Shop 3     0.011157\n",
       "Shop 0          NaN\n",
       "Name: purchaseid, dtype: float64"
      ]
     },
     "execution_count": 24,
     "metadata": {},
     "output_type": "execute_result"
    }
   ],
   "source": [
    "data_shop_return=data[data.total_usd < 0].groupby('ShopID').purchaseid.count().sort_values(ascending=False)\n",
    "(data_shop_return / data_shop).sort_values(ascending=False)"
   ]
  },
  {
   "cell_type": "markdown",
   "metadata": {},
   "source": [
    "Most returns are in Shop 10, 6, 27, 17."
   ]
  },
  {
   "cell_type": "code",
   "execution_count": 25,
   "metadata": {},
   "outputs": [
    {
     "name": "stdout",
     "output_type": "stream",
     "text": [
      "CustomerID\n",
      "18427.0    773\n",
      "20285.0    745\n",
      "20990.0    714\n",
      "20590.0    549\n",
      "20325.0    468\n",
      "Name: purchaseid, dtype: int64\n"
     ]
    },
    {
     "data": {
      "text/plain": [
       "count    1132.000000\n",
       "mean       38.185512\n",
       "std        60.298455\n",
       "min         1.000000\n",
       "25%        10.000000\n",
       "50%        21.500000\n",
       "75%        44.000000\n",
       "max       773.000000\n",
       "Name: purchaseid, dtype: float64"
      ]
     },
     "execution_count": 25,
     "metadata": {},
     "output_type": "execute_result"
    },
    {
     "data": {
      "image/png": "[encoded data removed]",
      "text/plain": [
       "<Figure size 432x288 with 1 Axes>"
      ]
     },
     "metadata": {
      "needs_background": "light"
     },
     "output_type": "display_data"
    }
   ],
   "source": [
    "data_customer=data[data.loyalty_program==0].groupby('CustomerID').purchaseid.count().sort_values(ascending=False)\n",
    "print(data_customer.head())\n",
    "data_customer.hist(bins=100)\n",
    "plt.title('Quantity purchase by Customer without loyalty program')\n",
    "plt.xlabel(\"Customer\")\n",
    "data_customer.describe()\n"
   ]
  },
  {
   "cell_type": "code",
   "execution_count": 26,
   "metadata": {},
   "outputs": [
    {
     "name": "stdout",
     "output_type": "stream",
     "text": [
      "CustomerID\n",
      "23520.0    717\n",
      "23529.0    308\n",
      "23797.0    287\n",
      "23190.0    251\n",
      "23490.0    249\n",
      "Name: purchaseid, dtype: int64\n"
     ]
    },
    {
     "data": {
      "text/plain": [
       "count    576.000000\n",
       "mean      39.192708\n",
       "std       50.397060\n",
       "min        1.000000\n",
       "25%       11.000000\n",
       "50%       25.000000\n",
       "75%       51.000000\n",
       "max      717.000000\n",
       "Name: purchaseid, dtype: float64"
      ]
     },
     "execution_count": 26,
     "metadata": {},
     "output_type": "execute_result"
    },
    {
     "data": {
      "image/png": "[encoded data removed]",
      "text/plain": [
       "<Figure size 432x288 with 1 Axes>"
      ]
     },
     "metadata": {
      "needs_background": "light"
     },
     "output_type": "display_data"
    }
   ],
   "source": [
    "data_customer=data[data.loyalty_program==1].groupby('CustomerID').purchaseid.count().sort_values(ascending=False)\n",
    "print(data_customer.head())\n",
    "data_customer.hist(bins=100)\n",
    "plt.title('Quantity purchase by Customer with loyalty program')\n",
    "plt.xlabel(\"Customer\")\n",
    "data_customer.describe()"
   ]
  },
  {
   "cell_type": "markdown",
   "metadata": {},
   "source": [
    "The avarange quantity purchase by customer - 23.\n",
    "\n",
    "The larggest number of purchases made Customer with id : 18427 - 774 purchases."
   ]
  },
  {
   "cell_type": "code",
   "execution_count": 27,
   "metadata": {},
   "outputs": [
    {
     "data": {
      "image/png": "[encoded data removed]",
      "text/plain": [
       "<Figure size 432x288 with 1 Axes>"
      ]
     },
     "metadata": {
      "needs_background": "light"
     },
     "output_type": "display_data"
    }
   ],
   "source": [
    "data['loyalty_program'].value_counts(normalize= True).plot(kind='bar', title='Loyalty program type')\n",
    "plt.show()\n",
    "\n"
   ]
  },
  {
   "cell_type": "markdown",
   "metadata": {},
   "source": [
    "Non loyalty program have the most proportions of purchase."
   ]
  },
  {
   "cell_type": "code",
   "execution_count": 28,
   "metadata": {},
   "outputs": [
    {
     "data": {
      "image/png": "[encoded data removed]",
      "text/plain": [
       "<Figure size 936x648 with 1 Axes>"
      ]
     },
     "metadata": {
      "needs_background": "light"
     },
     "output_type": "display_data"
    }
   ],
   "source": [
    "plt.figure(figsize=(13,9))\n",
    "sns.countplot(y=\"ShopID\", hue=\"loyalty_program\", data=data)\n",
    "\n",
    "plt.title('Quantity purchase by ShopId by loyalty program')\n",
    "plt.show()"
   ]
  },
  {
   "cell_type": "markdown",
   "metadata": {},
   "source": [
    "In all stores, the proportion of non-loyalty_program customers is greater."
   ]
  },
  {
   "cell_type": "code",
   "execution_count": 29,
   "metadata": {},
   "outputs": [
    {
     "data": {
      "text/plain": [
       "ShopID\n",
       "Shop 10    74\n",
       "Shop 24    68\n",
       "Shop 27    65\n",
       "Shop 22    64\n",
       "Shop 28    58\n",
       "Shop 17    57\n",
       "Shop 19    57\n",
       "Shop 6     53\n",
       "Shop 23    51\n",
       "Shop 16    49\n",
       "Shop 9     49\n",
       "Shop 7     47\n",
       "Shop 29    46\n",
       "Shop 18    44\n",
       "Shop 4     44\n",
       "Shop 13    43\n",
       "Shop 11    41\n",
       "Shop 15    41\n",
       "Shop 26    40\n",
       "Shop 8     39\n",
       "Shop 30    36\n",
       "Shop 2     36\n",
       "Shop 12    35\n",
       "Shop 14    33\n",
       "Shop 5     32\n",
       "Shop 1     32\n",
       "Shop 21    31\n",
       "Shop 20    29\n",
       "Shop 25    27\n",
       "Shop 3     19\n",
       "Name: purchaseid, dtype: int64"
      ]
     },
     "execution_count": 29,
     "metadata": {},
     "output_type": "execute_result"
    }
   ],
   "source": [
    "data_shop_return"
   ]
  },
  {
   "cell_type": "code",
   "execution_count": 30,
   "metadata": {},
   "outputs": [
    {
     "data": {
      "image/png": "[encoded data removed]",
      "text/plain": [
       "<Figure size 936x648 with 1 Axes>"
      ]
     },
     "metadata": {
      "needs_background": "light"
     },
     "output_type": "display_data"
    }
   ],
   "source": [
    "plt.figure(figsize=(13,9))\n",
    "sns.barplot(x=\"total_usd\", y=\"ShopID\", hue=\"loyalty_program\", data=data)\n",
    "plt.title('Total revenue by ShopId by loyalty program')\n",
    "\n",
    "plt.show()\n"
   ]
  },
  {
   "cell_type": "code",
   "execution_count": 31,
   "metadata": {},
   "outputs": [
    {
     "data": {
      "text/plain": [
       "ShopID\n",
       "Shop 5     63046.14\n",
       "Shop 4     39778.52\n",
       "Shop 20    39468.26\n",
       "Shop 13    39407.76\n",
       "Shop 25    34496.92\n",
       "Shop 15    34355.27\n",
       "Shop 30    33726.79\n",
       "Shop 26    32258.18\n",
       "Shop 29    32034.20\n",
       "Shop 23    30360.23\n",
       "Shop 28    30217.95\n",
       "Shop 10    30002.04\n",
       "Shop 3     28301.64\n",
       "Shop 18    27709.57\n",
       "Shop 8     26704.05\n",
       "Shop 24    26604.29\n",
       "Shop 6     25571.90\n",
       "Shop 14    24811.34\n",
       "Shop 2     24798.92\n",
       "Shop 9     24725.67\n",
       "Shop 7     24597.39\n",
       "Shop 1     24043.83\n",
       "Shop 22    23911.13\n",
       "Shop 19    23844.42\n",
       "Shop 17    23326.33\n",
       "Shop 11    23264.34\n",
       "Shop 12    20727.31\n",
       "Shop 16    20361.03\n",
       "Shop 27    19710.59\n",
       "Shop 21    18110.55\n",
       "Name: total_usd, dtype: float64"
      ]
     },
     "execution_count": 31,
     "metadata": {},
     "output_type": "execute_result"
    }
   ],
   "source": [
    "data.groupby('ShopID').total_usd.sum().sort_values(ascending=False)\n"
   ]
  },
  {
   "cell_type": "code",
   "execution_count": 32,
   "metadata": {},
   "outputs": [
    {
     "data": {
      "text/html": [
       "<div>\n",
       "<style scoped>\n",
       "    .dataframe tbody tr th:only-of-type {\n",
       "        vertical-align: middle;\n",
       "    }\n",
       "\n",
       "    .dataframe tbody tr th {\n",
       "        vertical-align: top;\n",
       "    }\n",
       "\n",
       "    .dataframe thead th {\n",
       "        text-align: right;\n",
       "    }\n",
       "</style>\n",
       "<table border=\"1\" class=\"dataframe\">\n",
       "  <thead>\n",
       "    <tr style=\"text-align: right;\">\n",
       "      <th></th>\n",
       "      <th>Quantity</th>\n",
       "      <th>CustomerID</th>\n",
       "      <th>price_per_one</th>\n",
       "      <th>total_usd</th>\n",
       "    </tr>\n",
       "    <tr>\n",
       "      <th>loyalty_program</th>\n",
       "      <th></th>\n",
       "      <th></th>\n",
       "      <th></th>\n",
       "      <th></th>\n",
       "    </tr>\n",
       "  </thead>\n",
       "  <tbody>\n",
       "    <tr>\n",
       "      <td>0</td>\n",
       "      <td>11.839505</td>\n",
       "      <td>19947.256674</td>\n",
       "      <td>2.190314</td>\n",
       "      <td>14.175768</td>\n",
       "    </tr>\n",
       "    <tr>\n",
       "      <td>1</td>\n",
       "      <td>9.888682</td>\n",
       "      <td>23047.707597</td>\n",
       "      <td>2.132469</td>\n",
       "      <td>11.284003</td>\n",
       "    </tr>\n",
       "  </tbody>\n",
       "</table>\n",
       "</div>"
      ],
      "text/plain": [
       "                  Quantity    CustomerID  price_per_one  total_usd\n",
       "loyalty_program                                                   \n",
       "0                11.839505  19947.256674       2.190314  14.175768\n",
       "1                 9.888682  23047.707597       2.132469  11.284003"
      ]
     },
     "execution_count": 32,
     "metadata": {},
     "output_type": "execute_result"
    }
   ],
   "source": [
    "data.groupby(['loyalty_program']).mean()"
   ]
  },
  {
   "cell_type": "markdown",
   "metadata": {},
   "source": [
    "Customers without loyalty program buy more Quantity of products and more spend money."
   ]
  },
  {
   "cell_type": "code",
   "execution_count": 184,
   "metadata": {},
   "outputs": [],
   "source": [
    "data.to_csv('tableau.csv')\n",
    "\n"
   ]
  },
  {
   "cell_type": "markdown",
   "metadata": {},
   "source": [
    "## Statistical Tests <a name=\"introduction2\"></a>\n"
   ]
  },
  {
   "cell_type": "code",
   "execution_count": 33,
   "metadata": {},
   "outputs": [],
   "source": [
    "from scipy import stats as st\n"
   ]
  },
  {
   "cell_type": "code",
   "execution_count": 34,
   "metadata": {},
   "outputs": [
    {
     "data": {
      "text/html": [
       "<div>\n",
       "<style scoped>\n",
       "    .dataframe tbody tr th:only-of-type {\n",
       "        vertical-align: middle;\n",
       "    }\n",
       "\n",
       "    .dataframe tbody tr th {\n",
       "        vertical-align: top;\n",
       "    }\n",
       "\n",
       "    .dataframe thead th {\n",
       "        text-align: right;\n",
       "    }\n",
       "</style>\n",
       "<table border=\"1\" class=\"dataframe\">\n",
       "  <thead>\n",
       "    <tr style=\"text-align: right;\">\n",
       "      <th></th>\n",
       "      <th>count</th>\n",
       "      <th>mean</th>\n",
       "      <th>std</th>\n",
       "      <th>min</th>\n",
       "      <th>25%</th>\n",
       "      <th>50%</th>\n",
       "      <th>75%</th>\n",
       "      <th>max</th>\n",
       "    </tr>\n",
       "    <tr>\n",
       "      <th>loyalty_program</th>\n",
       "      <th></th>\n",
       "      <th></th>\n",
       "      <th></th>\n",
       "      <th></th>\n",
       "      <th></th>\n",
       "      <th></th>\n",
       "      <th></th>\n",
       "      <th></th>\n",
       "    </tr>\n",
       "  </thead>\n",
       "  <tbody>\n",
       "    <tr>\n",
       "      <td>0</td>\n",
       "      <td>43422.0</td>\n",
       "      <td>14.175768</td>\n",
       "      <td>60.932687</td>\n",
       "      <td>-1236.75</td>\n",
       "      <td>0.0</td>\n",
       "      <td>6.48</td>\n",
       "      <td>13.4125</td>\n",
       "      <td>6537.30</td>\n",
       "    </tr>\n",
       "    <tr>\n",
       "      <td>1</td>\n",
       "      <td>22575.0</td>\n",
       "      <td>11.284003</td>\n",
       "      <td>72.960571</td>\n",
       "      <td>-589.05</td>\n",
       "      <td>0.0</td>\n",
       "      <td>2.75</td>\n",
       "      <td>10.1500</td>\n",
       "      <td>3821.62</td>\n",
       "    </tr>\n",
       "  </tbody>\n",
       "</table>\n",
       "</div>"
      ],
      "text/plain": [
       "                   count       mean        std      min  25%   50%      75%  \\\n",
       "loyalty_program                                                               \n",
       "0                43422.0  14.175768  60.932687 -1236.75  0.0  6.48  13.4125   \n",
       "1                22575.0  11.284003  72.960571  -589.05  0.0  2.75  10.1500   \n",
       "\n",
       "                     max  \n",
       "loyalty_program           \n",
       "0                6537.30  \n",
       "1                3821.62  "
      ]
     },
     "execution_count": 34,
     "metadata": {},
     "output_type": "execute_result"
    }
   ],
   "source": [
    "data.groupby('loyalty_program').total_usd.describe()\n"
   ]
  },
  {
   "cell_type": "markdown",
   "metadata": {},
   "source": [
    "H0: average profits total usd for loyalty program customers = average profits total usd for non loyalty program customers\n",
    "\n",
    "H1: average profits total usd for loyalty program customers <> average profits total usd for non loyalty program customers\n",
    "\n",
    "If p_value < alpha, then reject null hypothesis. If p_value > alpha, fail to reject null hypothesis."
   ]
  },
  {
   "cell_type": "code",
   "execution_count": 35,
   "metadata": {},
   "outputs": [
    {
     "data": {
      "text/plain": [
       "Ttest_indResult(statistic=-5.101554255258241, pvalue=3.384425385035468e-07)"
      ]
     },
     "execution_count": 35,
     "metadata": {},
     "output_type": "execute_result"
    }
   ],
   "source": [
    "st.ttest_ind(data[data.loyalty_program==1].total_usd, data[data.loyalty_program==0].total_usd, equal_var = False)\n"
   ]
  },
  {
   "cell_type": "markdown",
   "metadata": {},
   "source": [
    " p > 0.05 - Null hypothesis confirmed; there's not a statistically significant difference in average profits total usd between loyalty program customers and non loyalty program customers;"
   ]
  },
  {
   "cell_type": "markdown",
   "metadata": {},
   "source": [
    "## General conclusion <a name=\"introduction3\"></a>\n",
    "\n",
    "- Shop 0 is a custumers with not ID. This data does not contain information that is useful to us, so i drop it.\n",
    "- Timeline of data is from 2016-12-01 08:26:00 until 2017-02-28 17:01:00, was during for 89 days 08:35:00. \n",
    "- Most returns are in Shop 10, 6, 27, 17.\n",
    "- Sales are evenly distributed among the other shops.\n",
    "- Customers with loyalty program buy more Quantity of products and more spend money.\n",
    "- The mean quantity purchase by customer - 23.\n",
    "- The larggest number of purchases made Customer with id : 18427 - 774 purchases.\n",
    "- In all stores, the proportion of non-loyalty_program customers is greater.\n",
    "- Customers without loyalty program buy more Quantity of products and more spend money.\n",
    "- The result statistical tests: there's not a statistically significant difference in average profits total usd between loyalty program customers and non loyalty program customers;\n",
    "\n",
    "    Recommendations:\n",
    "\n",
    "    I don’t see some reason to give loyal programm to customer. It not really affect on count of purchase or sum of money that customers spend."
   ]
  },
  {
   "cell_type": "markdown",
   "metadata": {},
   "source": [
    "Tableau link: https://public.tableau.com/views/Finalproject_16283311193400/Dashboard1?:language=en-US&publish=yes&:display_count=n&:origin=viz_share_link"
   ]
  },
  {
   "cell_type": "markdown",
   "metadata": {},
   "source": [
    "Link for presintation: https://drive.google.com/drive/folders/1mxVmtqrcwRT1o_Y7SZ4gaZPkD0n3eQdb?usp=sharing"
   ]
  },
  {
   "cell_type": "code",
   "execution_count": null,
   "metadata": {},
   "outputs": [],
   "source": []
  }
 ],
 "metadata": {
  "ExecuteTimeLog": [
   {
    "duration": 1654,
    "start_time": "2021-08-04T11:37:21.198Z"
   },
   {
    "duration": 333,
    "start_time": "2021-08-04T11:38:00.771Z"
   },
   {
    "duration": 314,
    "start_time": "2021-08-04T11:38:07.180Z"
   },
   {
    "duration": 327,
    "start_time": "2021-08-04T11:38:43.042Z"
   },
   {
    "duration": 297,
    "start_time": "2021-08-04T11:39:26.476Z"
   },
   {
    "duration": 1720,
    "start_time": "2021-08-04T11:55:57.278Z"
   },
   {
    "duration": 2117,
    "start_time": "2021-08-04T11:56:50.081Z"
   },
   {
    "duration": 2243,
    "start_time": "2021-08-04T11:57:37.807Z"
   },
   {
    "duration": 2229,
    "start_time": "2021-08-04T11:58:10.845Z"
   },
   {
    "duration": 345,
    "start_time": "2021-08-04T11:59:06.747Z"
   },
   {
    "duration": 280,
    "start_time": "2021-08-04T11:59:33.691Z"
   },
   {
    "duration": 520,
    "start_time": "2021-08-04T12:00:18.401Z"
   },
   {
    "duration": 399,
    "start_time": "2021-08-04T12:00:24.381Z"
   },
   {
    "duration": 318,
    "start_time": "2021-08-04T12:00:35.475Z"
   },
   {
    "duration": 311,
    "start_time": "2021-08-04T12:00:35.869Z"
   },
   {
    "duration": 28,
    "start_time": "2021-08-04T12:01:21.453Z"
   },
   {
    "duration": 32,
    "start_time": "2021-08-04T12:02:04.675Z"
   },
   {
    "duration": 8,
    "start_time": "2021-08-04T12:02:58.033Z"
   },
   {
    "duration": 256,
    "start_time": "2021-08-04T12:04:06.864Z"
   },
   {
    "duration": 23,
    "start_time": "2021-08-04T12:04:21.523Z"
   },
   {
    "duration": 6,
    "start_time": "2021-08-04T12:04:28.667Z"
   },
   {
    "duration": 7,
    "start_time": "2021-08-04T12:04:44.430Z"
   },
   {
    "duration": 17,
    "start_time": "2021-08-04T12:09:22.485Z"
   },
   {
    "duration": 13,
    "start_time": "2021-08-04T12:09:25.417Z"
   },
   {
    "duration": 6,
    "start_time": "2021-08-04T12:09:26.886Z"
   },
   {
    "duration": 323,
    "start_time": "2021-08-04T12:11:13.748Z"
   },
   {
    "duration": 54,
    "start_time": "2021-08-04T12:11:21.743Z"
   },
   {
    "duration": 68,
    "start_time": "2021-08-04T12:23:20.305Z"
   },
   {
    "duration": 15,
    "start_time": "2021-08-04T12:29:54.247Z"
   },
   {
    "duration": 10,
    "start_time": "2021-08-04T12:30:04.684Z"
   },
   {
    "duration": 313,
    "start_time": "2021-08-04T12:31:43.474Z"
   },
   {
    "duration": 287,
    "start_time": "2021-08-04T12:32:18.968Z"
   },
   {
    "duration": 291,
    "start_time": "2021-08-04T12:33:22.020Z"
   },
   {
    "duration": 18,
    "start_time": "2021-08-04T12:34:17.049Z"
   },
   {
    "duration": 7,
    "start_time": "2021-08-04T14:08:01.671Z"
   },
   {
    "duration": 7,
    "start_time": "2021-08-04T14:08:24.790Z"
   },
   {
    "duration": 7,
    "start_time": "2021-08-04T14:08:43.159Z"
   },
   {
    "duration": 419,
    "start_time": "2021-08-04T14:09:12.674Z"
   },
   {
    "duration": 514,
    "start_time": "2021-08-04T14:09:45.758Z"
   },
   {
    "duration": 307,
    "start_time": "2021-08-04T14:09:51.636Z"
   },
   {
    "duration": 316,
    "start_time": "2021-08-04T14:11:30.857Z"
   },
   {
    "duration": 666,
    "start_time": "2021-08-04T14:11:42.936Z"
   },
   {
    "duration": 255,
    "start_time": "2021-08-04T14:11:52.551Z"
   },
   {
    "duration": 301,
    "start_time": "2021-08-04T14:12:06.522Z"
   },
   {
    "duration": 34,
    "start_time": "2021-08-04T14:23:28.665Z"
   },
   {
    "duration": 301,
    "start_time": "2021-08-04T14:23:59.026Z"
   },
   {
    "duration": 368,
    "start_time": "2021-08-04T14:24:47.007Z"
   },
   {
    "duration": 292,
    "start_time": "2021-08-04T14:25:19.627Z"
   },
   {
    "duration": 290,
    "start_time": "2021-08-04T14:25:29.600Z"
   },
   {
    "duration": 309,
    "start_time": "2021-08-04T14:25:40.153Z"
   },
   {
    "duration": 306,
    "start_time": "2021-08-04T14:26:01.804Z"
   },
   {
    "duration": 322,
    "start_time": "2021-08-04T14:26:46.588Z"
   },
   {
    "duration": 18,
    "start_time": "2021-08-04T14:26:53.783Z"
   },
   {
    "duration": 21,
    "start_time": "2021-08-04T14:28:12.015Z"
   },
   {
    "duration": 8,
    "start_time": "2021-08-04T14:57:29.420Z"
   },
   {
    "duration": 54,
    "start_time": "2021-08-04T14:57:40.722Z"
   },
   {
    "duration": 7,
    "start_time": "2021-08-04T14:57:42.829Z"
   },
   {
    "duration": 6,
    "start_time": "2021-08-04T14:57:48.405Z"
   },
   {
    "duration": 6,
    "start_time": "2021-08-04T14:57:51.379Z"
   },
   {
    "duration": 7,
    "start_time": "2021-08-04T14:57:54.232Z"
   },
   {
    "duration": 399,
    "start_time": "2021-08-04T14:57:57.664Z"
   },
   {
    "duration": 252,
    "start_time": "2021-08-04T15:11:38.932Z"
   },
   {
    "duration": 304,
    "start_time": "2021-08-04T15:11:56.602Z"
   },
   {
    "duration": 362,
    "start_time": "2021-08-04T15:13:45.376Z"
   },
   {
    "duration": 297,
    "start_time": "2021-08-04T15:14:38.207Z"
   },
   {
    "duration": 337,
    "start_time": "2021-08-04T15:14:50.366Z"
   },
   {
    "duration": 331,
    "start_time": "2021-08-04T15:14:59.163Z"
   },
   {
    "duration": 21,
    "start_time": "2021-08-04T15:15:09.565Z"
   },
   {
    "duration": 478,
    "start_time": "2021-08-05T10:50:28.321Z"
   },
   {
    "duration": 1560,
    "start_time": "2021-08-05T10:50:32.200Z"
   },
   {
    "duration": 941,
    "start_time": "2021-08-05T10:50:33.763Z"
   },
   {
    "duration": 24,
    "start_time": "2021-08-05T10:50:34.707Z"
   },
   {
    "duration": 9,
    "start_time": "2021-08-05T10:50:34.757Z"
   },
   {
    "duration": 21,
    "start_time": "2021-08-05T10:50:34.768Z"
   },
   {
    "duration": 9,
    "start_time": "2021-08-05T10:50:34.792Z"
   },
   {
    "duration": 99,
    "start_time": "2021-08-05T10:50:34.804Z"
   },
   {
    "duration": 80,
    "start_time": "2021-08-05T10:50:36.233Z"
   },
   {
    "duration": 14,
    "start_time": "2021-08-05T10:50:36.519Z"
   },
   {
    "duration": 10,
    "start_time": "2021-08-05T10:50:36.737Z"
   },
   {
    "duration": 8,
    "start_time": "2021-08-05T10:50:36.922Z"
   },
   {
    "duration": 78,
    "start_time": "2021-08-05T10:50:37.122Z"
   },
   {
    "duration": 8,
    "start_time": "2021-08-05T10:50:37.296Z"
   },
   {
    "duration": 8,
    "start_time": "2021-08-05T10:50:37.472Z"
   },
   {
    "duration": 9,
    "start_time": "2021-08-05T10:50:37.635Z"
   },
   {
    "duration": 50,
    "start_time": "2021-08-05T10:50:37.778Z"
   },
   {
    "duration": 482,
    "start_time": "2021-08-05T10:50:38.131Z"
   },
   {
    "duration": 21,
    "start_time": "2021-08-05T10:51:05.629Z"
   },
   {
    "duration": 21,
    "start_time": "2021-08-05T10:53:06.274Z"
   },
   {
    "duration": 117,
    "start_time": "2021-08-05T10:57:01.565Z"
   },
   {
    "duration": 30,
    "start_time": "2021-08-05T11:01:26.165Z"
   },
   {
    "duration": 547,
    "start_time": "2021-08-05T11:01:57.371Z"
   },
   {
    "duration": 13,
    "start_time": "2021-08-05T11:03:19.472Z"
   },
   {
    "duration": 4,
    "start_time": "2021-08-05T11:03:22.514Z"
   },
   {
    "duration": 532,
    "start_time": "2021-08-05T11:03:22.845Z"
   },
   {
    "duration": 23,
    "start_time": "2021-08-05T11:03:23.379Z"
   },
   {
    "duration": 7,
    "start_time": "2021-08-05T11:03:23.785Z"
   },
   {
    "duration": 10,
    "start_time": "2021-08-05T11:03:24.939Z"
   },
   {
    "duration": 8,
    "start_time": "2021-08-05T11:03:25.964Z"
   },
   {
    "duration": 7,
    "start_time": "2021-08-05T11:03:42.308Z"
   },
   {
    "duration": 51,
    "start_time": "2021-08-05T11:03:42.706Z"
   },
   {
    "duration": 62,
    "start_time": "2021-08-05T11:03:43.796Z"
   },
   {
    "duration": 14,
    "start_time": "2021-08-05T11:03:46.318Z"
   },
   {
    "duration": 10,
    "start_time": "2021-08-05T11:03:46.924Z"
   },
   {
    "duration": 7,
    "start_time": "2021-08-05T11:03:47.563Z"
   },
   {
    "duration": 59,
    "start_time": "2021-08-05T11:03:48.369Z"
   },
   {
    "duration": 9,
    "start_time": "2021-08-05T11:03:48.813Z"
   },
   {
    "duration": 6,
    "start_time": "2021-08-05T11:03:49.184Z"
   },
   {
    "duration": 7,
    "start_time": "2021-08-05T11:03:49.544Z"
   },
   {
    "duration": 36,
    "start_time": "2021-08-05T11:03:50.248Z"
   },
   {
    "duration": 526,
    "start_time": "2021-08-05T11:03:51.960Z"
   },
   {
    "duration": 283,
    "start_time": "2021-08-05T11:04:05.026Z"
   },
   {
    "duration": 21,
    "start_time": "2021-08-05T11:04:14.486Z"
   },
   {
    "duration": 20,
    "start_time": "2021-08-05T11:04:26.753Z"
   },
   {
    "duration": 26,
    "start_time": "2021-08-05T11:04:58.056Z"
   },
   {
    "duration": 5,
    "start_time": "2021-08-05T11:05:02.027Z"
   },
   {
    "duration": 499,
    "start_time": "2021-08-05T11:05:02.149Z"
   },
   {
    "duration": 26,
    "start_time": "2021-08-05T11:05:02.652Z"
   },
   {
    "duration": 8,
    "start_time": "2021-08-05T11:05:02.681Z"
   },
   {
    "duration": 36,
    "start_time": "2021-08-05T11:05:02.692Z"
   },
   {
    "duration": 7,
    "start_time": "2021-08-05T11:05:02.872Z"
   },
   {
    "duration": 36,
    "start_time": "2021-08-05T11:05:02.994Z"
   },
   {
    "duration": 42,
    "start_time": "2021-08-05T11:05:04.006Z"
   },
   {
    "duration": 14,
    "start_time": "2021-08-05T11:05:04.428Z"
   },
   {
    "duration": 4,
    "start_time": "2021-08-05T11:05:30.842Z"
   },
   {
    "duration": 621,
    "start_time": "2021-08-05T11:05:31.020Z"
   },
   {
    "duration": 24,
    "start_time": "2021-08-05T11:05:31.643Z"
   },
   {
    "duration": 41,
    "start_time": "2021-08-05T11:05:31.670Z"
   },
   {
    "duration": 35,
    "start_time": "2021-08-05T11:05:31.714Z"
   },
   {
    "duration": 8,
    "start_time": "2021-08-05T11:05:31.903Z"
   },
   {
    "duration": 64,
    "start_time": "2021-08-05T11:05:32.255Z"
   },
   {
    "duration": 70,
    "start_time": "2021-08-05T11:05:32.584Z"
   },
   {
    "duration": 15,
    "start_time": "2021-08-05T11:05:32.762Z"
   },
   {
    "duration": 10,
    "start_time": "2021-08-05T11:05:32.910Z"
   },
   {
    "duration": 8,
    "start_time": "2021-08-05T11:05:33.050Z"
   },
   {
    "duration": 62,
    "start_time": "2021-08-05T11:05:33.172Z"
   },
   {
    "duration": 6,
    "start_time": "2021-08-05T11:05:33.273Z"
   },
   {
    "duration": 7,
    "start_time": "2021-08-05T11:05:33.408Z"
   },
   {
    "duration": 7,
    "start_time": "2021-08-05T11:05:33.544Z"
   },
   {
    "duration": 37,
    "start_time": "2021-08-05T11:05:33.706Z"
   },
   {
    "duration": 30,
    "start_time": "2021-08-05T11:05:34.069Z"
   },
   {
    "duration": 689,
    "start_time": "2021-08-05T11:08:11.671Z"
   },
   {
    "duration": 31,
    "start_time": "2021-08-05T11:08:23.314Z"
   },
   {
    "duration": 4,
    "start_time": "2021-08-05T11:09:13.408Z"
   },
   {
    "duration": 2079,
    "start_time": "2021-08-05T11:09:13.632Z"
   },
   {
    "duration": 24,
    "start_time": "2021-08-05T11:09:15.713Z"
   },
   {
    "duration": 9,
    "start_time": "2021-08-05T11:09:15.756Z"
   },
   {
    "duration": 354,
    "start_time": "2021-08-05T11:09:20.755Z"
   },
   {
    "duration": 4,
    "start_time": "2021-08-05T11:10:54.616Z"
   },
   {
    "duration": 7,
    "start_time": "2021-08-05T11:10:57.307Z"
   },
   {
    "duration": 48,
    "start_time": "2021-08-05T11:11:05.370Z"
   },
   {
    "duration": 51,
    "start_time": "2021-08-05T11:11:06.127Z"
   },
   {
    "duration": 15,
    "start_time": "2021-08-05T11:11:06.460Z"
   },
   {
    "duration": 9,
    "start_time": "2021-08-05T11:11:09.355Z"
   },
   {
    "duration": 7,
    "start_time": "2021-08-05T11:11:09.491Z"
   },
   {
    "duration": 43,
    "start_time": "2021-08-05T11:11:09.615Z"
   },
   {
    "duration": 6,
    "start_time": "2021-08-05T11:11:09.737Z"
   },
   {
    "duration": 5,
    "start_time": "2021-08-05T11:11:09.861Z"
   },
   {
    "duration": 7,
    "start_time": "2021-08-05T11:11:09.986Z"
   },
   {
    "duration": 37,
    "start_time": "2021-08-05T11:11:10.256Z"
   },
   {
    "duration": 19,
    "start_time": "2021-08-05T11:11:10.336Z"
   },
   {
    "duration": 357,
    "start_time": "2021-08-05T11:11:34.206Z"
   },
   {
    "duration": 611,
    "start_time": "2021-08-05T11:12:53.414Z"
   },
   {
    "duration": 922,
    "start_time": "2021-08-05T11:15:54.387Z"
   },
   {
    "duration": 1017,
    "start_time": "2021-08-05T11:16:02.315Z"
   },
   {
    "duration": 922,
    "start_time": "2021-08-05T11:16:20.994Z"
   },
   {
    "duration": 1116,
    "start_time": "2021-08-05T11:16:50.678Z"
   },
   {
    "duration": 586,
    "start_time": "2021-08-05T11:17:40.352Z"
   },
   {
    "duration": 590,
    "start_time": "2021-08-05T11:18:06.807Z"
   },
   {
    "duration": 579,
    "start_time": "2021-08-05T11:18:41.063Z"
   },
   {
    "duration": 586,
    "start_time": "2021-08-05T11:18:45.948Z"
   },
   {
    "duration": 24,
    "start_time": "2021-08-05T11:19:08.272Z"
   },
   {
    "duration": 23,
    "start_time": "2021-08-05T11:19:26.378Z"
   },
   {
    "duration": 22,
    "start_time": "2021-08-05T11:19:48.311Z"
   },
   {
    "duration": 21,
    "start_time": "2021-08-05T11:20:05.897Z"
   },
   {
    "duration": 24,
    "start_time": "2021-08-05T11:20:16.884Z"
   },
   {
    "duration": 23,
    "start_time": "2021-08-05T11:20:26.971Z"
   },
   {
    "duration": 215,
    "start_time": "2021-08-05T11:29:37.716Z"
   },
   {
    "duration": 32,
    "start_time": "2021-08-05T11:32:42.145Z"
   },
   {
    "duration": 26,
    "start_time": "2021-08-05T11:37:23.918Z"
   },
   {
    "duration": 6,
    "start_time": "2021-08-05T11:38:24.026Z"
   },
   {
    "duration": 24,
    "start_time": "2021-08-05T11:39:02.358Z"
   },
   {
    "duration": 28,
    "start_time": "2021-08-05T11:39:48.547Z"
   },
   {
    "duration": 4,
    "start_time": "2021-08-05T11:41:51.489Z"
   },
   {
    "duration": 2464,
    "start_time": "2021-08-05T11:41:51.727Z"
   },
   {
    "duration": 25,
    "start_time": "2021-08-05T11:41:54.194Z"
   },
   {
    "duration": 35,
    "start_time": "2021-08-05T11:41:54.223Z"
   },
   {
    "duration": 4,
    "start_time": "2021-08-05T11:41:54.261Z"
   },
   {
    "duration": 8,
    "start_time": "2021-08-05T11:41:54.268Z"
   },
   {
    "duration": 16,
    "start_time": "2021-08-05T11:41:54.278Z"
   },
   {
    "duration": 50,
    "start_time": "2021-08-05T11:41:54.775Z"
   },
   {
    "duration": 52,
    "start_time": "2021-08-05T11:41:55.423Z"
   },
   {
    "duration": 20,
    "start_time": "2021-08-05T11:41:55.751Z"
   },
   {
    "duration": 11,
    "start_time": "2021-08-05T11:41:56.064Z"
   },
   {
    "duration": 13,
    "start_time": "2021-08-05T11:41:56.460Z"
   },
   {
    "duration": 44,
    "start_time": "2021-08-05T11:41:56.800Z"
   },
   {
    "duration": 6,
    "start_time": "2021-08-05T11:41:57.083Z"
   },
   {
    "duration": 7,
    "start_time": "2021-08-05T11:41:57.297Z"
   },
   {
    "duration": 7,
    "start_time": "2021-08-05T11:41:57.557Z"
   },
   {
    "duration": 7,
    "start_time": "2021-08-05T11:41:57.810Z"
   },
   {
    "duration": 38,
    "start_time": "2021-08-05T11:41:58.081Z"
   },
   {
    "duration": 698,
    "start_time": "2021-08-05T11:41:58.787Z"
   },
   {
    "duration": 27,
    "start_time": "2021-08-05T11:42:01.495Z"
   },
   {
    "duration": 217,
    "start_time": "2021-08-05T11:45:30.396Z"
   },
   {
    "duration": 18,
    "start_time": "2021-08-05T11:46:01.926Z"
   },
   {
    "duration": 389,
    "start_time": "2021-08-05T11:47:28.102Z"
   },
   {
    "duration": 336,
    "start_time": "2021-08-05T11:47:45.299Z"
   },
   {
    "duration": 516,
    "start_time": "2021-08-05T11:48:53.040Z"
   },
   {
    "duration": 350,
    "start_time": "2021-08-05T11:49:14.228Z"
   },
   {
    "duration": 359,
    "start_time": "2021-08-05T11:49:30.923Z"
   },
   {
    "duration": 610,
    "start_time": "2021-08-05T17:49:22.093Z"
   },
   {
    "duration": 391,
    "start_time": "2021-08-05T17:50:27.070Z"
   },
   {
    "duration": 505,
    "start_time": "2021-08-05T17:50:35.169Z"
   },
   {
    "duration": 440,
    "start_time": "2021-08-05T17:50:35.676Z"
   },
   {
    "duration": 18,
    "start_time": "2021-08-05T17:50:36.119Z"
   },
   {
    "duration": 6,
    "start_time": "2021-08-05T17:50:36.139Z"
   },
   {
    "duration": 20,
    "start_time": "2021-08-05T17:50:36.147Z"
   },
   {
    "duration": 18,
    "start_time": "2021-08-05T17:50:36.185Z"
   },
   {
    "duration": 6,
    "start_time": "2021-08-05T17:50:36.280Z"
   },
   {
    "duration": 37,
    "start_time": "2021-08-05T17:50:36.373Z"
   },
   {
    "duration": 40,
    "start_time": "2021-08-05T17:50:36.526Z"
   },
   {
    "duration": 9,
    "start_time": "2021-08-05T17:50:36.608Z"
   },
   {
    "duration": 7,
    "start_time": "2021-08-05T17:50:36.690Z"
   },
   {
    "duration": 10,
    "start_time": "2021-08-05T17:50:36.774Z"
   },
   {
    "duration": 32,
    "start_time": "2021-08-05T17:50:36.866Z"
   },
   {
    "duration": 6,
    "start_time": "2021-08-05T17:50:36.943Z"
   },
   {
    "duration": 5,
    "start_time": "2021-08-05T17:50:37.024Z"
   },
   {
    "duration": 5,
    "start_time": "2021-08-05T17:50:37.118Z"
   },
   {
    "duration": 6,
    "start_time": "2021-08-05T17:50:37.196Z"
   },
   {
    "duration": 28,
    "start_time": "2021-08-05T17:50:37.278Z"
   },
   {
    "duration": 353,
    "start_time": "2021-08-05T17:50:37.448Z"
   },
   {
    "duration": 133,
    "start_time": "2021-08-05T17:50:37.803Z"
   },
   {
    "duration": 15,
    "start_time": "2021-08-05T17:50:37.938Z"
   },
   {
    "duration": 32,
    "start_time": "2021-08-05T17:50:37.955Z"
   },
   {
    "duration": 3,
    "start_time": "2021-08-05T17:50:38.112Z"
   },
   {
    "duration": 25,
    "start_time": "2021-08-05T17:50:38.205Z"
   },
   {
    "duration": 313,
    "start_time": "2021-08-05T17:54:09.767Z"
   },
   {
    "duration": 343,
    "start_time": "2021-08-05T17:54:36.307Z"
   },
   {
    "duration": 7,
    "start_time": "2021-08-05T17:54:46.825Z"
   },
   {
    "duration": 7,
    "start_time": "2021-08-05T19:00:43.192Z"
   },
   {
    "duration": 30,
    "start_time": "2021-08-05T19:00:56.428Z"
   },
   {
    "duration": 23,
    "start_time": "2021-08-05T19:02:04.930Z"
   },
   {
    "duration": 6,
    "start_time": "2021-08-05T19:04:45.412Z"
   },
   {
    "duration": 70,
    "start_time": "2021-08-05T19:14:19.187Z"
   },
   {
    "duration": 7,
    "start_time": "2021-08-05T19:15:47.925Z"
   },
   {
    "duration": 6,
    "start_time": "2021-08-05T20:21:18.667Z"
   },
   {
    "duration": 6,
    "start_time": "2021-08-05T20:21:53.415Z"
   },
   {
    "duration": 5,
    "start_time": "2021-08-05T20:25:58.109Z"
   },
   {
    "duration": 6,
    "start_time": "2021-08-05T20:26:11.279Z"
   },
   {
    "duration": 1547,
    "start_time": "2021-08-05T22:54:47.028Z"
   },
   {
    "duration": 1631,
    "start_time": "2021-08-05T22:54:48.577Z"
   },
   {
    "duration": 55,
    "start_time": "2021-08-05T22:54:50.212Z"
   },
   {
    "duration": 9,
    "start_time": "2021-08-05T22:54:50.270Z"
   },
   {
    "duration": 10,
    "start_time": "2021-08-05T22:54:50.282Z"
   },
   {
    "duration": 9,
    "start_time": "2021-08-05T22:54:50.295Z"
   },
   {
    "duration": 7,
    "start_time": "2021-08-05T22:54:50.472Z"
   },
   {
    "duration": 54,
    "start_time": "2021-08-05T22:54:52.419Z"
   },
   {
    "duration": 60,
    "start_time": "2021-08-05T22:54:52.475Z"
   },
   {
    "duration": 14,
    "start_time": "2021-08-05T22:54:52.899Z"
   },
   {
    "duration": 10,
    "start_time": "2021-08-05T22:54:52.916Z"
   },
   {
    "duration": 13,
    "start_time": "2021-08-05T22:54:52.929Z"
   },
   {
    "duration": 50,
    "start_time": "2021-08-05T22:54:53.322Z"
   },
   {
    "duration": 12,
    "start_time": "2021-08-05T22:54:53.532Z"
   },
   {
    "duration": 6,
    "start_time": "2021-08-05T22:54:54.342Z"
   },
   {
    "duration": 11,
    "start_time": "2021-08-05T22:54:54.351Z"
   },
   {
    "duration": 7,
    "start_time": "2021-08-05T22:54:54.640Z"
   },
   {
    "duration": 40,
    "start_time": "2021-08-05T22:54:55.077Z"
   },
   {
    "duration": 628,
    "start_time": "2021-08-05T22:54:55.953Z"
   },
   {
    "duration": 220,
    "start_time": "2021-08-05T22:54:56.899Z"
   },
   {
    "duration": 33,
    "start_time": "2021-08-05T22:54:57.458Z"
   },
   {
    "duration": 27,
    "start_time": "2021-08-05T22:54:58.310Z"
   },
   {
    "duration": 4,
    "start_time": "2021-08-05T22:54:59.533Z"
   },
   {
    "duration": 34,
    "start_time": "2021-08-05T22:54:59.690Z"
   },
   {
    "duration": 12,
    "start_time": "2021-08-05T22:55:00.848Z"
   },
   {
    "duration": 9,
    "start_time": "2021-08-05T22:55:01.364Z"
   },
   {
    "duration": 20,
    "start_time": "2021-08-05T22:55:15.276Z"
   },
   {
    "duration": 34,
    "start_time": "2021-08-05T23:39:05.701Z"
   },
   {
    "duration": 4,
    "start_time": "2021-08-05T23:50:49.334Z"
   },
   {
    "duration": 529,
    "start_time": "2021-08-05T23:50:49.382Z"
   },
   {
    "duration": 56,
    "start_time": "2021-08-05T23:50:49.915Z"
   },
   {
    "duration": 8,
    "start_time": "2021-08-05T23:50:49.975Z"
   },
   {
    "duration": 7,
    "start_time": "2021-08-05T23:50:49.986Z"
   },
   {
    "duration": 10,
    "start_time": "2021-08-05T23:50:49.996Z"
   },
   {
    "duration": 53,
    "start_time": "2021-08-05T23:50:50.009Z"
   },
   {
    "duration": 70,
    "start_time": "2021-08-05T23:50:50.066Z"
   },
   {
    "duration": 77,
    "start_time": "2021-08-05T23:50:50.188Z"
   },
   {
    "duration": 21,
    "start_time": "2021-08-05T23:50:50.269Z"
   },
   {
    "duration": 13,
    "start_time": "2021-08-05T23:50:50.340Z"
   },
   {
    "duration": 10,
    "start_time": "2021-08-05T23:50:50.423Z"
   },
   {
    "duration": 66,
    "start_time": "2021-08-05T23:50:50.520Z"
   },
   {
    "duration": 5,
    "start_time": "2021-08-05T23:50:50.597Z"
   },
   {
    "duration": 7,
    "start_time": "2021-08-05T23:50:50.676Z"
   },
   {
    "duration": 6,
    "start_time": "2021-08-05T23:50:50.758Z"
   },
   {
    "duration": 7,
    "start_time": "2021-08-05T23:50:50.845Z"
   },
   {
    "duration": 37,
    "start_time": "2021-08-05T23:50:50.926Z"
   },
   {
    "duration": 595,
    "start_time": "2021-08-05T23:50:51.108Z"
   },
   {
    "duration": 237,
    "start_time": "2021-08-05T23:50:51.706Z"
   },
   {
    "duration": 31,
    "start_time": "2021-08-05T23:50:51.947Z"
   },
   {
    "duration": 28,
    "start_time": "2021-08-05T23:50:51.981Z"
   },
   {
    "duration": 5,
    "start_time": "2021-08-05T23:50:52.011Z"
   },
   {
    "duration": 76,
    "start_time": "2021-08-05T23:50:52.019Z"
   },
   {
    "duration": 22,
    "start_time": "2021-08-05T23:50:52.098Z"
   },
   {
    "duration": 1544,
    "start_time": "2021-08-05T23:50:52.200Z"
   },
   {
    "duration": 21,
    "start_time": "2021-08-05T23:51:04.063Z"
   },
   {
    "duration": 3,
    "start_time": "2021-08-06T10:31:35.851Z"
   },
   {
    "duration": 64,
    "start_time": "2021-08-06T10:31:40.913Z"
   },
   {
    "duration": 3,
    "start_time": "2021-08-06T10:31:48.340Z"
   },
   {
    "duration": 69,
    "start_time": "2021-08-06T10:31:49.979Z"
   },
   {
    "duration": 377,
    "start_time": "2021-08-06T10:31:50.471Z"
   },
   {
    "duration": 18,
    "start_time": "2021-08-06T10:31:50.851Z"
   },
   {
    "duration": 6,
    "start_time": "2021-08-06T10:31:50.871Z"
   },
   {
    "duration": 10,
    "start_time": "2021-08-06T10:31:50.879Z"
   },
   {
    "duration": 5,
    "start_time": "2021-08-06T10:31:50.892Z"
   },
   {
    "duration": 5,
    "start_time": "2021-08-06T10:31:51.059Z"
   },
   {
    "duration": 36,
    "start_time": "2021-08-06T10:31:51.164Z"
   },
   {
    "duration": 32,
    "start_time": "2021-08-06T10:31:51.312Z"
   },
   {
    "duration": 11,
    "start_time": "2021-08-06T10:31:51.389Z"
   },
   {
    "duration": 7,
    "start_time": "2021-08-06T10:31:51.480Z"
   },
   {
    "duration": 7,
    "start_time": "2021-08-06T10:31:51.563Z"
   },
   {
    "duration": 28,
    "start_time": "2021-08-06T10:31:51.636Z"
   },
   {
    "duration": 5,
    "start_time": "2021-08-06T10:31:51.723Z"
   },
   {
    "duration": 5,
    "start_time": "2021-08-06T10:31:51.806Z"
   },
   {
    "duration": 6,
    "start_time": "2021-08-06T10:31:51.888Z"
   },
   {
    "duration": 5,
    "start_time": "2021-08-06T10:31:51.975Z"
   },
   {
    "duration": 31,
    "start_time": "2021-08-06T10:31:52.078Z"
   },
   {
    "duration": 376,
    "start_time": "2021-08-06T10:31:52.232Z"
   },
   {
    "duration": 144,
    "start_time": "2021-08-06T10:31:52.610Z"
   },
   {
    "duration": 32,
    "start_time": "2021-08-06T10:31:52.757Z"
   },
   {
    "duration": 21,
    "start_time": "2021-08-06T10:31:52.790Z"
   },
   {
    "duration": 3,
    "start_time": "2021-08-06T10:31:52.897Z"
   },
   {
    "duration": 25,
    "start_time": "2021-08-06T10:31:52.981Z"
   },
   {
    "duration": 14,
    "start_time": "2021-08-06T10:31:53.142Z"
   },
   {
    "duration": 34,
    "start_time": "2021-08-06T10:31:53.319Z"
   },
   {
    "duration": 76,
    "start_time": "2021-08-06T10:31:53.411Z"
   },
   {
    "duration": 64,
    "start_time": "2021-08-06T10:32:32.843Z"
   },
   {
    "duration": 888,
    "start_time": "2021-08-06T10:40:25.884Z"
   },
   {
    "duration": 61,
    "start_time": "2021-08-06T10:40:32.211Z"
   },
   {
    "duration": 1052,
    "start_time": "2021-08-07T06:06:11.643Z"
   },
   {
    "duration": 421,
    "start_time": "2021-08-07T06:06:16.448Z"
   },
   {
    "duration": 15,
    "start_time": "2021-08-07T06:06:16.870Z"
   },
   {
    "duration": 5,
    "start_time": "2021-08-07T06:06:17.289Z"
   },
   {
    "duration": 2,
    "start_time": "2021-08-07T06:06:18.787Z"
   },
   {
    "duration": 3,
    "start_time": "2021-08-07T06:06:19.234Z"
   },
   {
    "duration": 5,
    "start_time": "2021-08-07T06:06:20.335Z"
   },
   {
    "duration": 36,
    "start_time": "2021-08-07T06:06:21.040Z"
   },
   {
    "duration": 37,
    "start_time": "2021-08-07T06:06:22.301Z"
   },
   {
    "duration": 10,
    "start_time": "2021-08-07T06:06:22.901Z"
   },
   {
    "duration": 7,
    "start_time": "2021-08-07T06:06:23.422Z"
   },
   {
    "duration": 9,
    "start_time": "2021-08-07T06:06:23.949Z"
   },
   {
    "duration": 31,
    "start_time": "2021-08-07T06:06:24.451Z"
   },
   {
    "duration": 8,
    "start_time": "2021-08-07T06:06:24.934Z"
   },
   {
    "duration": 5,
    "start_time": "2021-08-07T06:06:25.364Z"
   },
   {
    "duration": 4,
    "start_time": "2021-08-07T06:06:25.823Z"
   },
   {
    "duration": 5,
    "start_time": "2021-08-07T06:06:26.261Z"
   },
   {
    "duration": 28,
    "start_time": "2021-08-07T06:06:26.690Z"
   },
   {
    "duration": 320,
    "start_time": "2021-08-07T06:06:27.532Z"
   },
   {
    "duration": 122,
    "start_time": "2021-08-07T06:06:28.450Z"
   },
   {
    "duration": 20,
    "start_time": "2021-08-07T06:06:29.377Z"
   },
   {
    "duration": 17,
    "start_time": "2021-08-07T06:06:30.742Z"
   },
   {
    "duration": 2,
    "start_time": "2021-08-07T06:06:32.003Z"
   },
   {
    "duration": 22,
    "start_time": "2021-08-07T06:06:32.206Z"
   },
   {
    "duration": 14,
    "start_time": "2021-08-07T06:06:33.110Z"
   },
   {
    "duration": 27,
    "start_time": "2021-08-07T06:06:34.063Z"
   },
   {
    "duration": 90,
    "start_time": "2021-08-07T06:06:34.939Z"
   },
   {
    "duration": 1288,
    "start_time": "2021-08-07T06:06:55.027Z"
   },
   {
    "duration": 3,
    "start_time": "2021-08-07T07:06:06.050Z"
   },
   {
    "duration": 456,
    "start_time": "2021-08-07T07:06:06.184Z"
   },
   {
    "duration": 16,
    "start_time": "2021-08-07T07:06:06.642Z"
   },
   {
    "duration": 5,
    "start_time": "2021-08-07T07:06:06.979Z"
   },
   {
    "duration": 3,
    "start_time": "2021-08-07T07:06:07.518Z"
   },
   {
    "duration": 3,
    "start_time": "2021-08-07T07:06:08.138Z"
   },
   {
    "duration": 9,
    "start_time": "2021-08-07T07:06:08.143Z"
   },
   {
    "duration": 30,
    "start_time": "2021-08-07T07:06:08.310Z"
   },
   {
    "duration": 32,
    "start_time": "2021-08-07T07:06:09.095Z"
   },
   {
    "duration": 9,
    "start_time": "2021-08-07T07:06:09.880Z"
   },
   {
    "duration": 6,
    "start_time": "2021-08-07T07:06:10.703Z"
   },
   {
    "duration": 6,
    "start_time": "2021-08-07T07:06:11.073Z"
   },
   {
    "duration": 26,
    "start_time": "2021-08-07T07:06:11.337Z"
   },
   {
    "duration": 5,
    "start_time": "2021-08-07T07:06:11.576Z"
   },
   {
    "duration": 5,
    "start_time": "2021-08-07T07:06:11.889Z"
   },
   {
    "duration": 5,
    "start_time": "2021-08-07T07:06:12.228Z"
   },
   {
    "duration": 6,
    "start_time": "2021-08-07T07:06:12.472Z"
   },
   {
    "duration": 25,
    "start_time": "2021-08-07T07:06:12.709Z"
   },
   {
    "duration": 321,
    "start_time": "2021-08-07T07:06:13.262Z"
   },
   {
    "duration": 123,
    "start_time": "2021-08-07T07:06:13.677Z"
   },
   {
    "duration": 15,
    "start_time": "2021-08-07T07:06:14.009Z"
   },
   {
    "duration": 1155,
    "start_time": "2021-08-07T07:06:20.137Z"
   },
   {
    "duration": 3,
    "start_time": "2021-08-07T10:22:46.064Z"
   },
   {
    "duration": 5,
    "start_time": "2021-08-07T10:22:47.385Z"
   },
   {
    "duration": 5,
    "start_time": "2021-08-07T10:23:01.354Z"
   },
   {
    "duration": 15,
    "start_time": "2021-08-07T10:23:30.564Z"
   },
   {
    "duration": 4,
    "start_time": "2021-08-07T10:23:48.006Z"
   },
   {
    "duration": 19,
    "start_time": "2021-08-07T10:23:51.167Z"
   },
   {
    "duration": 17,
    "start_time": "2021-08-07T10:26:45.649Z"
   },
   {
    "duration": 5,
    "start_time": "2021-08-07T10:26:46.047Z"
   },
   {
    "duration": 3,
    "start_time": "2021-08-07T10:26:49.157Z"
   },
   {
    "duration": 447,
    "start_time": "2021-08-07T10:26:49.434Z"
   },
   {
    "duration": 18,
    "start_time": "2021-08-07T10:26:49.927Z"
   },
   {
    "duration": 5,
    "start_time": "2021-08-07T10:26:50.268Z"
   },
   {
    "duration": 21,
    "start_time": "2021-08-07T10:26:51.301Z"
   },
   {
    "duration": 12,
    "start_time": "2021-08-07T10:26:51.840Z"
   },
   {
    "duration": 20,
    "start_time": "2021-08-07T10:26:52.612Z"
   },
   {
    "duration": 20,
    "start_time": "2021-08-07T10:26:53.685Z"
   },
   {
    "duration": 10,
    "start_time": "2021-08-07T10:26:55.168Z"
   },
   {
    "duration": 8,
    "start_time": "2021-08-07T10:26:55.887Z"
   },
   {
    "duration": 5,
    "start_time": "2021-08-07T10:26:57.287Z"
   },
   {
    "duration": 3,
    "start_time": "2021-08-07T10:27:29.191Z"
   },
   {
    "duration": 257,
    "start_time": "2021-08-07T10:27:29.462Z"
   },
   {
    "duration": 18,
    "start_time": "2021-08-07T10:27:29.904Z"
   },
   {
    "duration": 5,
    "start_time": "2021-08-07T10:27:30.380Z"
   },
   {
    "duration": 21,
    "start_time": "2021-08-07T10:27:31.030Z"
   },
   {
    "duration": 22,
    "start_time": "2021-08-07T10:27:31.736Z"
   },
   {
    "duration": 33,
    "start_time": "2021-08-07T10:27:32.972Z"
   },
   {
    "duration": 22,
    "start_time": "2021-08-07T10:27:58.528Z"
   },
   {
    "duration": 10,
    "start_time": "2021-08-07T10:28:00.691Z"
   },
   {
    "duration": 7,
    "start_time": "2021-08-07T10:28:02.755Z"
   },
   {
    "duration": 5,
    "start_time": "2021-08-07T10:28:04.544Z"
   },
   {
    "duration": 22,
    "start_time": "2021-08-07T10:28:05.265Z"
   },
   {
    "duration": 4,
    "start_time": "2021-08-07T10:28:15.865Z"
   },
   {
    "duration": 21,
    "start_time": "2021-08-07T10:29:50.394Z"
   },
   {
    "duration": 10,
    "start_time": "2021-08-07T10:29:50.922Z"
   },
   {
    "duration": 9,
    "start_time": "2021-08-07T10:29:50.934Z"
   },
   {
    "duration": 5,
    "start_time": "2021-08-07T10:29:51.017Z"
   },
   {
    "duration": 20,
    "start_time": "2021-08-07T10:29:51.457Z"
   },
   {
    "duration": 84,
    "start_time": "2021-08-07T10:29:51.479Z"
   },
   {
    "duration": 4,
    "start_time": "2021-08-07T10:29:59.464Z"
   },
   {
    "duration": 5,
    "start_time": "2021-08-07T10:30:01.558Z"
   },
   {
    "duration": 5,
    "start_time": "2021-08-07T10:30:01.933Z"
   },
   {
    "duration": 5,
    "start_time": "2021-08-07T10:30:02.315Z"
   },
   {
    "duration": 18,
    "start_time": "2021-08-07T10:30:02.644Z"
   },
   {
    "duration": 395,
    "start_time": "2021-08-07T10:30:41.607Z"
   },
   {
    "duration": 120,
    "start_time": "2021-08-07T10:30:57.838Z"
   },
   {
    "duration": 15,
    "start_time": "2021-08-07T10:31:06.639Z"
   },
   {
    "duration": 926,
    "start_time": "2021-08-07T10:31:49.961Z"
   },
   {
    "duration": 331,
    "start_time": "2021-08-07T10:32:40.760Z"
   },
   {
    "duration": 362,
    "start_time": "2021-08-07T10:32:51.739Z"
   },
   {
    "duration": 15,
    "start_time": "2021-08-07T10:34:12.001Z"
   },
   {
    "duration": 5,
    "start_time": "2021-08-07T10:36:03.619Z"
   },
   {
    "duration": 264,
    "start_time": "2021-08-07T10:36:27.026Z"
   },
   {
    "duration": 9,
    "start_time": "2021-08-07T10:36:48.276Z"
   },
   {
    "duration": 4,
    "start_time": "2021-08-07T13:35:05.533Z"
   },
   {
    "duration": 4,
    "start_time": "2021-08-07T13:35:05.864Z"
   },
   {
    "duration": 5,
    "start_time": "2021-08-07T13:35:06.173Z"
   },
   {
    "duration": 5,
    "start_time": "2021-08-07T13:35:06.555Z"
   },
   {
    "duration": 13,
    "start_time": "2021-08-07T13:35:08.732Z"
   },
   {
    "duration": 315,
    "start_time": "2021-08-07T13:35:27.916Z"
   },
   {
    "duration": 84,
    "start_time": "2021-08-07T13:36:16.712Z"
   },
   {
    "duration": 119,
    "start_time": "2021-08-07T13:36:29.074Z"
   },
   {
    "duration": 123,
    "start_time": "2021-08-07T13:36:41.624Z"
   },
   {
    "duration": 84,
    "start_time": "2021-08-07T13:37:37.058Z"
   },
   {
    "duration": 89,
    "start_time": "2021-08-07T13:39:28.315Z"
   },
   {
    "duration": 84,
    "start_time": "2021-08-07T13:39:33.103Z"
   },
   {
    "duration": 117,
    "start_time": "2021-08-07T13:39:42.967Z"
   },
   {
    "duration": 123,
    "start_time": "2021-08-07T13:55:21.255Z"
   },
   {
    "duration": 14,
    "start_time": "2021-08-07T13:55:22.676Z"
   },
   {
    "duration": 910,
    "start_time": "2021-08-07T13:55:24.151Z"
   },
   {
    "duration": 2,
    "start_time": "2021-08-07T13:55:25.720Z"
   },
   {
    "duration": 20,
    "start_time": "2021-08-07T13:55:28.368Z"
   },
   {
    "duration": 15,
    "start_time": "2021-08-07T13:55:34.237Z"
   },
   {
    "duration": 302,
    "start_time": "2021-08-07T17:04:48.141Z"
   },
   {
    "duration": 259,
    "start_time": "2021-08-07T17:05:06.612Z"
   },
   {
    "duration": 287,
    "start_time": "2021-08-07T17:05:20.271Z"
   },
   {
    "duration": 1058,
    "start_time": "2021-08-07T17:05:28.979Z"
   },
   {
    "duration": 267,
    "start_time": "2021-08-07T17:05:48.609Z"
   },
   {
    "duration": 15,
    "start_time": "2021-08-07T17:05:58.894Z"
   },
   {
    "duration": 117,
    "start_time": "2021-08-07T17:17:52.583Z"
   },
   {
    "duration": 2,
    "start_time": "2021-08-07T18:48:40.886Z"
   },
   {
    "duration": 22,
    "start_time": "2021-08-07T18:48:44.352Z"
   },
   {
    "duration": 11,
    "start_time": "2021-08-07T18:48:45.615Z"
   },
   {
    "duration": 1947,
    "start_time": "2021-08-07T23:01:28.280Z"
   },
   {
    "duration": 666,
    "start_time": "2021-08-07T23:01:37.192Z"
   },
   {
    "duration": 23,
    "start_time": "2021-08-07T23:01:43.093Z"
   },
   {
    "duration": 7,
    "start_time": "2021-08-07T23:01:46.966Z"
   },
   {
    "duration": 29,
    "start_time": "2021-08-07T23:03:29.610Z"
   },
   {
    "duration": 17,
    "start_time": "2021-08-07T23:03:31.849Z"
   },
   {
    "duration": 33,
    "start_time": "2021-08-07T23:03:33.563Z"
   },
   {
    "duration": 37,
    "start_time": "2021-08-07T23:03:40.080Z"
   },
   {
    "duration": 14,
    "start_time": "2021-08-07T23:03:40.890Z"
   },
   {
    "duration": 10,
    "start_time": "2021-08-07T23:03:42.901Z"
   },
   {
    "duration": 7,
    "start_time": "2021-08-07T23:03:43.991Z"
   },
   {
    "duration": 35,
    "start_time": "2021-08-07T23:03:49.010Z"
   },
   {
    "duration": 10,
    "start_time": "2021-08-07T23:03:59.580Z"
   },
   {
    "duration": 7,
    "start_time": "2021-08-07T23:04:00.564Z"
   },
   {
    "duration": 6,
    "start_time": "2021-08-07T23:04:01.964Z"
   },
   {
    "duration": 9,
    "start_time": "2021-08-07T23:04:02.537Z"
   },
   {
    "duration": 30,
    "start_time": "2021-08-07T23:04:04.854Z"
   },
   {
    "duration": 447,
    "start_time": "2021-08-07T23:04:48.783Z"
   },
   {
    "duration": 155,
    "start_time": "2021-08-07T23:05:34.299Z"
   },
   {
    "duration": 24,
    "start_time": "2021-08-07T23:05:36.725Z"
   },
   {
    "duration": 3,
    "start_time": "2021-08-07T23:05:47.799Z"
   },
   {
    "duration": 30,
    "start_time": "2021-08-07T23:05:48.842Z"
   },
   {
    "duration": 18,
    "start_time": "2021-08-07T23:06:07.140Z"
   },
   {
    "duration": 1468,
    "start_time": "2021-08-09T15:18:06.775Z"
   },
   {
    "duration": 495,
    "start_time": "2021-08-09T15:18:08.245Z"
   },
   {
    "duration": 28,
    "start_time": "2021-08-09T15:18:08.743Z"
   },
   {
    "duration": 8,
    "start_time": "2021-08-09T15:18:09.576Z"
   },
   {
    "duration": 22,
    "start_time": "2021-08-09T15:18:11.153Z"
   },
   {
    "duration": 52,
    "start_time": "2021-08-09T15:18:12.224Z"
   },
   {
    "duration": 60,
    "start_time": "2021-08-09T15:18:34.831Z"
   },
   {
    "duration": 14,
    "start_time": "2021-08-09T15:18:35.541Z"
   },
   {
    "duration": 10,
    "start_time": "2021-08-09T15:18:36.511Z"
   },
   {
    "duration": 12,
    "start_time": "2021-08-09T15:18:38.641Z"
   },
   {
    "duration": 49,
    "start_time": "2021-08-09T15:18:39.941Z"
   },
   {
    "duration": 10,
    "start_time": "2021-08-09T15:18:42.157Z"
   },
   {
    "duration": 7,
    "start_time": "2021-08-09T15:18:42.980Z"
   },
   {
    "duration": 6,
    "start_time": "2021-08-09T15:18:43.651Z"
   },
   {
    "duration": 7,
    "start_time": "2021-08-09T15:18:44.237Z"
   },
   {
    "duration": 40,
    "start_time": "2021-08-09T15:18:45.221Z"
   },
   {
    "duration": 624,
    "start_time": "2021-08-09T15:18:46.130Z"
   },
   {
    "duration": 218,
    "start_time": "2021-08-09T15:19:52.294Z"
   },
   {
    "duration": 28,
    "start_time": "2021-08-09T15:19:54.608Z"
   },
   {
    "duration": 1788,
    "start_time": "2021-08-09T15:19:55.795Z"
   },
   {
    "duration": 26,
    "start_time": "2021-08-09T19:48:13.090Z"
   },
   {
    "duration": 25,
    "start_time": "2021-08-09T19:48:33.283Z"
   },
   {
    "duration": 387,
    "start_time": "2021-08-09T19:49:00.167Z"
   },
   {
    "duration": 273,
    "start_time": "2021-08-09T19:49:13.110Z"
   },
   {
    "duration": 26,
    "start_time": "2021-08-09T19:49:17.823Z"
   },
   {
    "duration": 557,
    "start_time": "2021-08-09T19:58:55.178Z"
   },
   {
    "duration": 90,
    "start_time": "2021-08-09T19:59:29.255Z"
   },
   {
    "duration": 13795,
    "start_time": "2021-08-09T19:59:33.279Z"
   },
   {
    "duration": 316,
    "start_time": "2021-08-09T20:56:18.725Z"
   },
   {
    "duration": 249,
    "start_time": "2021-08-09T21:06:55.306Z"
   },
   {
    "duration": 1522,
    "start_time": "2021-08-09T21:07:02.130Z"
   },
   {
    "duration": 783,
    "start_time": "2021-08-09T21:07:03.654Z"
   },
   {
    "duration": 51,
    "start_time": "2021-08-09T21:07:04.441Z"
   },
   {
    "duration": 6,
    "start_time": "2021-08-09T21:07:04.495Z"
   },
   {
    "duration": 24,
    "start_time": "2021-08-09T21:07:04.504Z"
   },
   {
    "duration": 53,
    "start_time": "2021-08-09T21:07:04.642Z"
   },
   {
    "duration": 62,
    "start_time": "2021-08-09T21:07:05.041Z"
   },
   {
    "duration": 14,
    "start_time": "2021-08-09T21:07:05.824Z"
   },
   {
    "duration": 13,
    "start_time": "2021-08-09T21:07:06.044Z"
   },
   {
    "duration": 16,
    "start_time": "2021-08-09T21:07:06.183Z"
   },
   {
    "duration": 72,
    "start_time": "2021-08-09T21:07:06.655Z"
   },
   {
    "duration": 13,
    "start_time": "2021-08-09T21:07:07.236Z"
   },
   {
    "duration": 8,
    "start_time": "2021-08-09T21:07:07.463Z"
   },
   {
    "duration": 8,
    "start_time": "2021-08-09T21:07:07.736Z"
   },
   {
    "duration": 9,
    "start_time": "2021-08-09T21:07:07.996Z"
   },
   {
    "duration": 58,
    "start_time": "2021-08-09T21:07:08.439Z"
   },
   {
    "duration": 1128,
    "start_time": "2021-08-09T21:07:08.942Z"
   },
   {
    "duration": 368,
    "start_time": "2021-08-09T21:07:10.074Z"
   },
   {
    "duration": 438,
    "start_time": "2021-08-09T21:07:10.764Z"
   },
   {
    "duration": 93,
    "start_time": "2021-08-09T21:07:23.928Z"
   },
   {
    "duration": 318,
    "start_time": "2021-08-09T21:07:31.955Z"
   },
   {
    "duration": 248,
    "start_time": "2021-08-09T21:09:40.087Z"
   },
   {
    "duration": 233,
    "start_time": "2021-08-09T21:09:57.047Z"
   },
   {
    "duration": 27,
    "start_time": "2021-08-09T21:10:19.630Z"
   },
   {
    "duration": 225,
    "start_time": "2021-08-09T21:10:32.913Z"
   },
   {
    "duration": 264,
    "start_time": "2021-08-09T21:10:39.149Z"
   },
   {
    "duration": 610,
    "start_time": "2021-08-09T21:11:08.004Z"
   },
   {
    "duration": 259,
    "start_time": "2021-08-09T21:11:26.316Z"
   },
   {
    "duration": 257,
    "start_time": "2021-08-09T21:11:50.077Z"
   },
   {
    "duration": 26,
    "start_time": "2021-08-09T21:16:06.003Z"
   },
   {
    "duration": 267,
    "start_time": "2021-08-09T21:17:00.095Z"
   },
   {
    "duration": 258,
    "start_time": "2021-08-09T21:35:43.408Z"
   },
   {
    "duration": 25,
    "start_time": "2021-08-09T21:37:33.120Z"
   },
   {
    "duration": 263,
    "start_time": "2021-08-10T08:45:50.392Z"
   },
   {
    "duration": 701,
    "start_time": "2021-08-10T08:46:07.744Z"
   },
   {
    "duration": 85,
    "start_time": "2021-08-10T08:48:18.170Z"
   },
   {
    "duration": 204,
    "start_time": "2021-08-10T08:49:37.605Z"
   },
   {
    "duration": 38,
    "start_time": "2021-08-10T08:54:50.268Z"
   },
   {
    "duration": 52,
    "start_time": "2021-08-10T09:01:38.541Z"
   },
   {
    "duration": 29,
    "start_time": "2021-08-10T09:05:02.458Z"
   },
   {
    "duration": 329,
    "start_time": "2021-08-10T09:13:13.680Z"
   },
   {
    "duration": 386,
    "start_time": "2021-08-10T09:13:36.221Z"
   },
   {
    "duration": 36,
    "start_time": "2021-08-10T09:15:17.640Z"
   },
   {
    "duration": 277,
    "start_time": "2021-08-10T09:15:33.160Z"
   },
   {
    "duration": 289,
    "start_time": "2021-08-10T09:15:50.452Z"
   },
   {
    "duration": 4,
    "start_time": "2021-08-10T09:16:04.782Z"
   },
   {
    "duration": 6,
    "start_time": "2021-08-10T09:16:24.610Z"
   },
   {
    "duration": 1604,
    "start_time": "2021-08-10T09:16:24.622Z"
   },
   {
    "duration": 45,
    "start_time": "2021-08-10T09:16:26.229Z"
   },
   {
    "duration": 10,
    "start_time": "2021-08-10T09:16:26.277Z"
   },
   {
    "duration": 28,
    "start_time": "2021-08-10T09:16:26.289Z"
   },
   {
    "duration": 68,
    "start_time": "2021-08-10T09:16:26.319Z"
   },
   {
    "duration": 51,
    "start_time": "2021-08-10T09:16:26.517Z"
   },
   {
    "duration": 14,
    "start_time": "2021-08-10T09:16:27.027Z"
   },
   {
    "duration": 10,
    "start_time": "2021-08-10T09:16:27.119Z"
   },
   {
    "duration": 8,
    "start_time": "2021-08-10T09:16:27.500Z"
   },
   {
    "duration": 46,
    "start_time": "2021-08-10T09:16:27.563Z"
   },
   {
    "duration": 6,
    "start_time": "2021-08-10T09:16:28.223Z"
   },
   {
    "duration": 7,
    "start_time": "2021-08-10T09:16:29.690Z"
   },
   {
    "duration": 6,
    "start_time": "2021-08-10T09:16:29.701Z"
   },
   {
    "duration": 7,
    "start_time": "2021-08-10T09:16:29.710Z"
   },
   {
    "duration": 40,
    "start_time": "2021-08-10T09:16:30.272Z"
   },
   {
    "duration": 29,
    "start_time": "2021-08-10T09:16:44.674Z"
   },
   {
    "duration": 51,
    "start_time": "2021-08-10T09:16:44.705Z"
   },
   {
    "duration": 269,
    "start_time": "2021-08-10T09:16:44.768Z"
   },
   {
    "duration": -1338,
    "start_time": "2021-08-10T09:16:46.377Z"
   },
   {
    "duration": 246,
    "start_time": "2021-08-10T09:19:54.590Z"
   },
   {
    "duration": 15,
    "start_time": "2021-08-10T09:20:18.490Z"
   },
   {
    "duration": 215,
    "start_time": "2021-08-10T09:21:21.780Z"
   },
   {
    "duration": 28,
    "start_time": "2021-08-10T09:38:17.234Z"
   },
   {
    "duration": 56,
    "start_time": "2021-08-10T09:39:00.149Z"
   },
   {
    "duration": 29,
    "start_time": "2021-08-10T09:39:42.435Z"
   },
   {
    "duration": 599,
    "start_time": "2021-08-10T09:45:31.908Z"
   },
   {
    "duration": 214,
    "start_time": "2021-08-10T09:45:40.432Z"
   },
   {
    "duration": 270,
    "start_time": "2021-08-10T09:45:46.811Z"
   },
   {
    "duration": 683,
    "start_time": "2021-08-10T09:46:00.132Z"
   },
   {
    "duration": 914,
    "start_time": "2021-08-10T09:47:10.401Z"
   },
   {
    "duration": 671,
    "start_time": "2021-08-10T09:49:24.067Z"
   },
   {
    "duration": 253,
    "start_time": "2021-08-10T09:50:27.924Z"
   },
   {
    "duration": 239,
    "start_time": "2021-08-10T10:06:42.099Z"
   },
   {
    "duration": 3072,
    "start_time": "2021-08-10T10:12:54.950Z"
   },
   {
    "duration": 5142,
    "start_time": "2021-08-10T10:21:34.505Z"
   },
   {
    "duration": 267435,
    "start_time": "2021-08-10T10:23:30.317Z"
   },
   {
    "duration": 5148,
    "start_time": "2021-08-10T10:32:32.219Z"
   },
   {
    "duration": 4960,
    "start_time": "2021-08-10T10:35:16.007Z"
   },
   {
    "duration": 322,
    "start_time": "2021-08-15T21:18:19.229Z"
   },
   {
    "duration": 1419,
    "start_time": "2021-08-15T21:18:24.729Z"
   },
   {
    "duration": 447,
    "start_time": "2021-08-15T21:18:26.150Z"
   },
   {
    "duration": 27,
    "start_time": "2021-08-15T21:18:26.601Z"
   },
   {
    "duration": 9,
    "start_time": "2021-08-15T21:18:26.630Z"
   },
   {
    "duration": 53,
    "start_time": "2021-08-15T21:18:26.641Z"
   },
   {
    "duration": 53,
    "start_time": "2021-08-15T21:18:26.697Z"
   },
   {
    "duration": 62,
    "start_time": "2021-08-15T21:18:26.986Z"
   },
   {
    "duration": 14,
    "start_time": "2021-08-15T21:18:27.338Z"
   },
   {
    "duration": 10,
    "start_time": "2021-08-15T21:18:27.538Z"
   },
   {
    "duration": 12,
    "start_time": "2021-08-15T21:18:27.718Z"
   },
   {
    "duration": 54,
    "start_time": "2021-08-15T21:18:27.946Z"
   },
   {
    "duration": 11,
    "start_time": "2021-08-15T21:18:28.760Z"
   },
   {
    "duration": 7,
    "start_time": "2021-08-15T21:18:28.993Z"
   },
   {
    "duration": 6,
    "start_time": "2021-08-15T21:18:29.514Z"
   },
   {
    "duration": 12,
    "start_time": "2021-08-15T21:18:30.486Z"
   },
   {
    "duration": 42,
    "start_time": "2021-08-15T21:18:31.079Z"
   },
   {
    "duration": 28,
    "start_time": "2021-08-15T21:18:31.430Z"
   },
   {
    "duration": 48,
    "start_time": "2021-08-15T21:18:31.927Z"
   },
   {
    "duration": 38,
    "start_time": "2021-08-15T21:18:32.411Z"
   },
   {
    "duration": 625,
    "start_time": "2021-08-15T21:18:33.843Z"
   },
   {
    "duration": 212,
    "start_time": "2021-08-15T21:18:35.112Z"
   },
   {
    "duration": 865,
    "start_time": "2021-08-15T21:18:36.343Z"
   },
   {
    "duration": 5144,
    "start_time": "2021-08-15T21:18:38.050Z"
   },
   {
    "duration": 31,
    "start_time": "2021-08-15T21:18:43.198Z"
   },
   {
    "duration": 1313,
    "start_time": "2021-08-15T21:18:43.231Z"
   },
   {
    "duration": 309,
    "start_time": "2021-08-15T21:19:55.940Z"
   },
   {
    "duration": 37,
    "start_time": "2021-08-15T21:23:48.683Z"
   },
   {
    "duration": 27,
    "start_time": "2021-08-15T21:25:17.871Z"
   },
   {
    "duration": 10,
    "start_time": "2021-08-15T21:28:59.884Z"
   },
   {
    "duration": 14,
    "start_time": "2021-08-15T21:29:09.756Z"
   },
   {
    "duration": 20,
    "start_time": "2021-08-15T21:34:58.786Z"
   },
   {
    "duration": 12,
    "start_time": "2021-08-15T21:34:59.793Z"
   },
   {
    "duration": 4,
    "start_time": "2021-08-15T21:35:16.363Z"
   },
   {
    "duration": 658,
    "start_time": "2021-08-15T21:35:16.515Z"
   },
   {
    "duration": 22,
    "start_time": "2021-08-15T21:35:17.175Z"
   },
   {
    "duration": 6,
    "start_time": "2021-08-15T21:35:17.506Z"
   },
   {
    "duration": 21,
    "start_time": "2021-08-15T21:35:18.062Z"
   },
   {
    "duration": 55,
    "start_time": "2021-08-15T21:35:18.200Z"
   },
   {
    "duration": 49,
    "start_time": "2021-08-15T21:35:18.635Z"
   },
   {
    "duration": 15,
    "start_time": "2021-08-15T21:35:19.080Z"
   },
   {
    "duration": 10,
    "start_time": "2021-08-15T21:35:19.373Z"
   },
   {
    "duration": 9,
    "start_time": "2021-08-15T21:35:19.778Z"
   },
   {
    "duration": 42,
    "start_time": "2021-08-15T21:35:20.347Z"
   },
   {
    "duration": 6,
    "start_time": "2021-08-15T21:35:21.030Z"
   },
   {
    "duration": 37,
    "start_time": "2021-08-15T21:35:21.704Z"
   },
   {
    "duration": 6,
    "start_time": "2021-08-15T21:35:22.634Z"
   },
   {
    "duration": 6,
    "start_time": "2021-08-15T21:35:22.985Z"
   },
   {
    "duration": 7,
    "start_time": "2021-08-15T21:35:23.444Z"
   },
   {
    "duration": 23,
    "start_time": "2021-08-15T21:35:24.756Z"
   },
   {
    "duration": 22,
    "start_time": "2021-08-15T21:35:55.749Z"
   },
   {
    "duration": 29,
    "start_time": "2021-08-15T21:35:56.028Z"
   },
   {
    "duration": 48,
    "start_time": "2021-08-15T21:35:56.233Z"
   },
   {
    "duration": 37,
    "start_time": "2021-08-15T21:35:56.429Z"
   },
   {
    "duration": 13,
    "start_time": "2021-08-15T21:36:00.790Z"
   },
   {
    "duration": 14,
    "start_time": "2021-08-15T21:36:23.648Z"
   },
   {
    "duration": 13,
    "start_time": "2021-08-15T21:36:55.500Z"
   },
   {
    "duration": 15,
    "start_time": "2021-08-15T21:37:22.482Z"
   },
   {
    "duration": 541,
    "start_time": "2021-08-15T21:43:34.853Z"
   },
   {
    "duration": 194,
    "start_time": "2021-08-15T21:46:30.174Z"
   },
   {
    "duration": 726,
    "start_time": "2021-08-15T21:46:35.374Z"
   },
   {
    "duration": 4237,
    "start_time": "2021-08-15T21:47:51.160Z"
   },
   {
    "duration": 8,
    "start_time": "2021-08-15T21:49:40.987Z"
   },
   {
    "duration": 6,
    "start_time": "2021-08-15T21:53:51.088Z"
   },
   {
    "duration": 282,
    "start_time": "2021-08-15T22:09:50.509Z"
   },
   {
    "duration": 33,
    "start_time": "2021-08-15T22:10:05.255Z"
   },
   {
    "duration": 13,
    "start_time": "2021-08-15T22:10:26.878Z"
   },
   {
    "duration": 32,
    "start_time": "2021-08-15T22:11:58.841Z"
   },
   {
    "duration": 34,
    "start_time": "2021-08-15T22:56:48.228Z"
   },
   {
    "duration": 34,
    "start_time": "2021-08-15T23:03:17.017Z"
   },
   {
    "duration": 292,
    "start_time": "2021-08-15T23:15:05.350Z"
   },
   {
    "duration": 19,
    "start_time": "2021-08-15T23:15:58.910Z"
   },
   {
    "duration": 4171,
    "start_time": "2021-08-15T23:16:21.650Z"
   },
   {
    "duration": 32,
    "start_time": "2021-08-15T23:16:55.244Z"
   },
   {
    "duration": 32,
    "start_time": "2021-08-15T23:17:33.871Z"
   },
   {
    "duration": 21,
    "start_time": "2021-08-15T23:17:42.530Z"
   },
   {
    "duration": 4186,
    "start_time": "2021-08-15T23:17:50.424Z"
   },
   {
    "duration": 5,
    "start_time": "2021-08-15T23:18:01.678Z"
   },
   {
    "duration": 590,
    "start_time": "2021-08-15T23:18:01.844Z"
   },
   {
    "duration": 23,
    "start_time": "2021-08-15T23:18:02.437Z"
   },
   {
    "duration": 6,
    "start_time": "2021-08-15T23:18:03.226Z"
   },
   {
    "duration": 20,
    "start_time": "2021-08-15T23:18:03.795Z"
   },
   {
    "duration": 45,
    "start_time": "2021-08-15T23:18:03.983Z"
   },
   {
    "duration": 48,
    "start_time": "2021-08-15T23:18:04.338Z"
   },
   {
    "duration": 13,
    "start_time": "2021-08-15T23:18:04.760Z"
   },
   {
    "duration": 9,
    "start_time": "2021-08-15T23:18:04.902Z"
   },
   {
    "duration": 11,
    "start_time": "2021-08-15T23:18:05.075Z"
   },
   {
    "duration": 47,
    "start_time": "2021-08-15T23:18:05.275Z"
   },
   {
    "duration": 5,
    "start_time": "2021-08-15T23:18:05.794Z"
   },
   {
    "duration": 123,
    "start_time": "2021-08-15T23:18:05.973Z"
   },
   {
    "duration": 36,
    "start_time": "2021-08-15T23:18:06.516Z"
   },
   {
    "duration": 35,
    "start_time": "2021-08-15T23:18:06.731Z"
   },
   {
    "duration": 5,
    "start_time": "2021-08-15T23:18:07.110Z"
   },
   {
    "duration": 6,
    "start_time": "2021-08-15T23:18:07.289Z"
   },
   {
    "duration": 7,
    "start_time": "2021-08-15T23:18:07.489Z"
   },
   {
    "duration": 23,
    "start_time": "2021-08-15T23:18:08.057Z"
   },
   {
    "duration": 27,
    "start_time": "2021-08-15T23:18:08.264Z"
   },
   {
    "duration": 49,
    "start_time": "2021-08-15T23:18:08.474Z"
   },
   {
    "duration": 41,
    "start_time": "2021-08-15T23:18:08.907Z"
   },
   {
    "duration": 14,
    "start_time": "2021-08-15T23:18:09.718Z"
   },
   {
    "duration": 566,
    "start_time": "2021-08-15T23:18:10.378Z"
   },
   {
    "duration": 190,
    "start_time": "2021-08-15T23:18:11.271Z"
   },
   {
    "duration": 710,
    "start_time": "2021-08-15T23:18:12.094Z"
   },
   {
    "duration": 6,
    "start_time": "2021-08-15T23:18:12.902Z"
   },
   {
    "duration": 4253,
    "start_time": "2021-08-15T23:18:13.447Z"
   },
   {
    "duration": 21,
    "start_time": "2021-08-15T23:18:53.776Z"
   },
   {
    "duration": 1265,
    "start_time": "2021-08-15T23:18:57.799Z"
   },
   {
    "duration": 4237,
    "start_time": "2021-08-15T23:25:23.427Z"
   },
   {
    "duration": 4303,
    "start_time": "2021-08-15T23:36:31.441Z"
   },
   {
    "duration": 288,
    "start_time": "2021-08-15T23:38:19.039Z"
   },
   {
    "duration": 30,
    "start_time": "2021-08-15T23:38:29.045Z"
   },
   {
    "duration": 268,
    "start_time": "2021-08-15T23:38:53.620Z"
   },
   {
    "duration": 244,
    "start_time": "2021-08-15T23:39:29.016Z"
   },
   {
    "duration": 279,
    "start_time": "2021-08-15T23:39:40.745Z"
   },
   {
    "duration": 86,
    "start_time": "2021-08-16T00:16:39.298Z"
   },
   {
    "duration": 247,
    "start_time": "2021-08-16T00:17:12.448Z"
   },
   {
    "duration": 262,
    "start_time": "2021-08-16T00:17:38.726Z"
   },
   {
    "duration": 3,
    "start_time": "2021-08-16T00:17:49.776Z"
   },
   {
    "duration": 497,
    "start_time": "2021-08-16T00:17:49.991Z"
   },
   {
    "duration": 21,
    "start_time": "2021-08-16T00:17:50.490Z"
   },
   {
    "duration": 7,
    "start_time": "2021-08-16T00:17:50.775Z"
   },
   {
    "duration": 20,
    "start_time": "2021-08-16T00:17:51.399Z"
   },
   {
    "duration": 47,
    "start_time": "2021-08-16T00:17:51.632Z"
   },
   {
    "duration": 47,
    "start_time": "2021-08-16T00:17:52.588Z"
   },
   {
    "duration": 14,
    "start_time": "2021-08-16T00:17:53.247Z"
   },
   {
    "duration": 10,
    "start_time": "2021-08-16T00:17:53.602Z"
   },
   {
    "duration": 7,
    "start_time": "2021-08-16T00:17:54.326Z"
   },
   {
    "duration": 40,
    "start_time": "2021-08-16T00:17:55.184Z"
   },
   {
    "duration": 6,
    "start_time": "2021-08-16T00:17:56.119Z"
   },
   {
    "duration": 42,
    "start_time": "2021-08-16T00:17:56.418Z"
   },
   {
    "duration": 29,
    "start_time": "2021-08-16T00:17:57.169Z"
   },
   {
    "duration": 43,
    "start_time": "2021-08-16T00:17:57.718Z"
   },
   {
    "duration": 6,
    "start_time": "2021-08-16T00:18:07.950Z"
   },
   {
    "duration": 6,
    "start_time": "2021-08-16T00:18:08.178Z"
   },
   {
    "duration": 7,
    "start_time": "2021-08-16T00:18:08.355Z"
   },
   {
    "duration": 19,
    "start_time": "2021-08-16T00:18:09.213Z"
   },
   {
    "duration": 16,
    "start_time": "2021-08-16T00:18:09.235Z"
   },
   {
    "duration": 36,
    "start_time": "2021-08-16T00:18:09.253Z"
   },
   {
    "duration": 22,
    "start_time": "2021-08-16T00:18:09.453Z"
   },
   {
    "duration": 15,
    "start_time": "2021-08-16T00:18:11.256Z"
   },
   {
    "duration": 533,
    "start_time": "2021-08-16T00:18:32.907Z"
   },
   {
    "duration": 192,
    "start_time": "2021-08-16T00:18:35.474Z"
   },
   {
    "duration": 757,
    "start_time": "2021-08-16T00:18:37.331Z"
   },
   {
    "duration": 7,
    "start_time": "2021-08-16T00:18:41.030Z"
   },
   {
    "duration": 4241,
    "start_time": "2021-08-16T00:18:44.275Z"
   },
   {
    "duration": 30,
    "start_time": "2021-08-16T00:19:12.365Z"
   },
   {
    "duration": 28,
    "start_time": "2021-08-16T00:19:40.263Z"
   },
   {
    "duration": 29,
    "start_time": "2021-08-16T00:19:43.493Z"
   },
   {
    "duration": 19,
    "start_time": "2021-08-16T00:19:58.534Z"
   },
   {
    "duration": 28,
    "start_time": "2021-08-16T00:20:21.645Z"
   },
   {
    "duration": 30,
    "start_time": "2021-08-16T00:20:32.313Z"
   },
   {
    "duration": 16,
    "start_time": "2021-08-16T00:20:44.224Z"
   },
   {
    "duration": 26,
    "start_time": "2021-08-16T00:20:55.424Z"
   },
   {
    "duration": 17,
    "start_time": "2021-08-16T00:20:56.547Z"
   },
   {
    "duration": 4,
    "start_time": "2021-08-16T00:22:02.036Z"
   },
   {
    "duration": 442,
    "start_time": "2021-08-16T00:22:02.284Z"
   },
   {
    "duration": 23,
    "start_time": "2021-08-16T00:22:02.730Z"
   },
   {
    "duration": 7,
    "start_time": "2021-08-16T00:22:03.519Z"
   },
   {
    "duration": 20,
    "start_time": "2021-08-16T00:22:04.382Z"
   },
   {
    "duration": 44,
    "start_time": "2021-08-16T00:22:04.676Z"
   },
   {
    "duration": 52,
    "start_time": "2021-08-16T00:22:05.342Z"
   },
   {
    "duration": 14,
    "start_time": "2021-08-16T00:22:05.941Z"
   },
   {
    "duration": 11,
    "start_time": "2021-08-16T00:22:06.260Z"
   },
   {
    "duration": 8,
    "start_time": "2021-08-16T00:22:06.567Z"
   },
   {
    "duration": 47,
    "start_time": "2021-08-16T00:22:06.973Z"
   },
   {
    "duration": 5,
    "start_time": "2021-08-16T00:22:07.937Z"
   },
   {
    "duration": 32,
    "start_time": "2021-08-16T00:22:08.216Z"
   },
   {
    "duration": 33,
    "start_time": "2021-08-16T00:22:08.710Z"
   },
   {
    "duration": 37,
    "start_time": "2021-08-16T00:22:09.601Z"
   },
   {
    "duration": 7,
    "start_time": "2021-08-16T00:22:10.337Z"
   },
   {
    "duration": 6,
    "start_time": "2021-08-16T00:22:10.779Z"
   },
   {
    "duration": 7,
    "start_time": "2021-08-16T00:22:11.174Z"
   },
   {
    "duration": 27,
    "start_time": "2021-08-16T00:22:12.196Z"
   },
   {
    "duration": 27,
    "start_time": "2021-08-16T00:22:13.450Z"
   },
   {
    "duration": 49,
    "start_time": "2021-08-16T00:22:15.410Z"
   },
   {
    "duration": 36,
    "start_time": "2021-08-16T00:22:16.117Z"
   },
   {
    "duration": 14,
    "start_time": "2021-08-16T00:22:17.202Z"
   },
   {
    "duration": 554,
    "start_time": "2021-08-16T00:22:19.064Z"
   },
   {
    "duration": 190,
    "start_time": "2021-08-16T00:22:22.556Z"
   },
   {
    "duration": 767,
    "start_time": "2021-08-16T00:22:24.274Z"
   },
   {
    "duration": 7,
    "start_time": "2021-08-16T00:22:26.407Z"
   },
   {
    "duration": 4293,
    "start_time": "2021-08-16T00:22:27.353Z"
   },
   {
    "duration": 22,
    "start_time": "2021-08-16T00:22:57.194Z"
   },
   {
    "duration": 1131,
    "start_time": "2021-08-16T00:22:59.574Z"
   },
   {
    "duration": 4,
    "start_time": "2021-08-16T00:23:03.605Z"
   },
   {
    "duration": 28,
    "start_time": "2021-08-16T00:23:04.030Z"
   },
   {
    "duration": 16,
    "start_time": "2021-08-16T00:23:10.029Z"
   },
   {
    "duration": 784,
    "start_time": "2021-08-16T01:47:36.612Z"
   },
   {
    "duration": 242,
    "start_time": "2021-08-16T01:48:03.359Z"
   },
   {
    "duration": 543,
    "start_time": "2021-08-16T01:48:11.959Z"
   },
   {
    "duration": 36119,
    "start_time": "2021-08-16T01:48:58.491Z"
   },
   {
    "duration": 5,
    "start_time": "2021-08-16T01:49:34.613Z"
   },
   {
    "duration": 464,
    "start_time": "2021-08-16T01:49:34.622Z"
   },
   {
    "duration": 23,
    "start_time": "2021-08-16T01:49:35.088Z"
   },
   {
    "duration": 7,
    "start_time": "2021-08-16T01:49:36.570Z"
   },
   {
    "duration": 23,
    "start_time": "2021-08-16T01:49:37.752Z"
   },
   {
    "duration": 46,
    "start_time": "2021-08-16T01:49:37.981Z"
   },
   {
    "duration": 49,
    "start_time": "2021-08-16T01:49:38.368Z"
   },
   {
    "duration": 15,
    "start_time": "2021-08-16T01:49:38.700Z"
   },
   {
    "duration": 10,
    "start_time": "2021-08-16T01:49:38.864Z"
   },
   {
    "duration": 8,
    "start_time": "2021-08-16T01:49:39.195Z"
   },
   {
    "duration": 43,
    "start_time": "2021-08-16T01:49:39.451Z"
   },
   {
    "duration": 6,
    "start_time": "2021-08-16T01:49:40.239Z"
   },
   {
    "duration": 34,
    "start_time": "2021-08-16T01:49:40.483Z"
   },
   {
    "duration": 31,
    "start_time": "2021-08-16T01:49:40.828Z"
   },
   {
    "duration": 38,
    "start_time": "2021-08-16T01:49:41.746Z"
   },
   {
    "duration": 6,
    "start_time": "2021-08-16T01:49:42.612Z"
   },
   {
    "duration": 7,
    "start_time": "2021-08-16T01:49:43.135Z"
   },
   {
    "duration": 7,
    "start_time": "2021-08-16T01:49:43.524Z"
   },
   {
    "duration": 25,
    "start_time": "2021-08-16T01:49:45.031Z"
   },
   {
    "duration": 28,
    "start_time": "2021-08-16T01:49:47.138Z"
   },
   {
    "duration": 49,
    "start_time": "2021-08-16T01:49:47.587Z"
   },
   {
    "duration": 36,
    "start_time": "2021-08-16T01:49:48.625Z"
   },
   {
    "duration": 15,
    "start_time": "2021-08-16T01:49:51.418Z"
   },
   {
    "duration": 561,
    "start_time": "2021-08-16T01:51:30.606Z"
   },
   {
    "duration": 1078,
    "start_time": "2021-08-16T01:51:52.715Z"
   },
   {
    "duration": 1487,
    "start_time": "2021-08-16T10:38:33.317Z"
   },
   {
    "duration": 670,
    "start_time": "2021-08-16T10:38:34.807Z"
   },
   {
    "duration": 22,
    "start_time": "2021-08-16T10:38:35.479Z"
   },
   {
    "duration": 21,
    "start_time": "2021-08-16T10:38:35.503Z"
   },
   {
    "duration": 22,
    "start_time": "2021-08-16T10:38:36.295Z"
   },
   {
    "duration": 52,
    "start_time": "2021-08-16T10:38:36.505Z"
   },
   {
    "duration": 58,
    "start_time": "2021-08-16T10:38:36.907Z"
   },
   {
    "duration": 15,
    "start_time": "2021-08-16T10:38:37.336Z"
   },
   {
    "duration": 10,
    "start_time": "2021-08-16T10:38:37.570Z"
   },
   {
    "duration": 13,
    "start_time": "2021-08-16T10:38:37.783Z"
   },
   {
    "duration": 51,
    "start_time": "2021-08-16T10:38:37.973Z"
   },
   {
    "duration": 11,
    "start_time": "2021-08-16T10:38:38.623Z"
   },
   {
    "duration": 31,
    "start_time": "2021-08-16T10:38:38.817Z"
   },
   {
    "duration": 30,
    "start_time": "2021-08-16T10:38:39.036Z"
   },
   {
    "duration": 38,
    "start_time": "2021-08-16T10:38:39.443Z"
   },
   {
    "duration": 7,
    "start_time": "2021-08-16T10:38:39.813Z"
   },
   {
    "duration": 6,
    "start_time": "2021-08-16T10:38:40.010Z"
   },
   {
    "duration": 7,
    "start_time": "2021-08-16T10:38:40.196Z"
   },
   {
    "duration": 24,
    "start_time": "2021-08-16T10:38:40.581Z"
   },
   {
    "duration": 28,
    "start_time": "2021-08-16T10:38:40.751Z"
   },
   {
    "duration": 51,
    "start_time": "2021-08-16T10:38:40.993Z"
   },
   {
    "duration": 41,
    "start_time": "2021-08-16T10:38:41.158Z"
   },
   {
    "duration": 14,
    "start_time": "2021-08-16T10:38:41.803Z"
   },
   {
    "duration": 604,
    "start_time": "2021-08-16T10:38:42.079Z"
   },
   {
    "duration": 590,
    "start_time": "2021-08-16T10:38:42.686Z"
   },
   {
    "duration": 210,
    "start_time": "2021-08-16T10:38:45.229Z"
   },
   {
    "duration": 791,
    "start_time": "2021-08-16T10:38:56.568Z"
   },
   {
    "duration": 4830,
    "start_time": "2021-08-16T10:45:33.986Z"
   },
   {
    "duration": 4,
    "start_time": "2021-08-16T11:53:06.392Z"
   },
   {
    "duration": 567,
    "start_time": "2021-08-16T11:53:07.095Z"
   },
   {
    "duration": 24,
    "start_time": "2021-08-16T11:53:08.803Z"
   },
   {
    "duration": 7,
    "start_time": "2021-08-16T11:53:09.390Z"
   },
   {
    "duration": 28,
    "start_time": "2021-08-16T11:53:09.643Z"
   },
   {
    "duration": 50,
    "start_time": "2021-08-16T11:53:09.718Z"
   },
   {
    "duration": 55,
    "start_time": "2021-08-16T11:53:09.890Z"
   },
   {
    "duration": 39,
    "start_time": "2021-08-16T11:53:10.053Z"
   },
   {
    "duration": 11,
    "start_time": "2021-08-16T11:53:10.140Z"
   },
   {
    "duration": 8,
    "start_time": "2021-08-16T11:53:10.222Z"
   },
   {
    "duration": 60,
    "start_time": "2021-08-16T11:53:10.304Z"
   },
   {
    "duration": 6,
    "start_time": "2021-08-16T11:53:10.559Z"
   },
   {
    "duration": 29,
    "start_time": "2021-08-16T11:53:10.643Z"
   },
   {
    "duration": 31,
    "start_time": "2021-08-16T11:53:10.725Z"
   },
   {
    "duration": 38,
    "start_time": "2021-08-16T11:53:10.895Z"
   },
   {
    "duration": 7,
    "start_time": "2021-08-16T11:53:11.064Z"
   },
   {
    "duration": 6,
    "start_time": "2021-08-16T11:53:11.142Z"
   },
   {
    "duration": 7,
    "start_time": "2021-08-16T11:53:11.228Z"
   },
   {
    "duration": 24,
    "start_time": "2021-08-16T11:53:11.676Z"
   },
   {
    "duration": 29,
    "start_time": "2021-08-16T11:53:12.129Z"
   },
   {
    "duration": 53,
    "start_time": "2021-08-16T11:53:12.381Z"
   },
   {
    "duration": 46,
    "start_time": "2021-08-16T11:53:12.660Z"
   },
   {
    "duration": 19,
    "start_time": "2021-08-16T11:53:13.251Z"
   },
   {
    "duration": 650,
    "start_time": "2021-08-16T11:53:13.604Z"
   },
   {
    "duration": 659,
    "start_time": "2021-08-16T11:53:14.259Z"
   },
   {
    "duration": 292,
    "start_time": "2021-08-16T11:53:16.782Z"
   },
   {
    "duration": 849,
    "start_time": "2021-08-16T11:53:17.442Z"
   },
   {
    "duration": 10,
    "start_time": "2021-08-16T11:53:18.294Z"
   },
   {
    "duration": 15,
    "start_time": "2021-08-16T11:53:27.419Z"
   },
   {
    "duration": 18,
    "start_time": "2021-08-16T11:53:39.985Z"
   },
   {
    "duration": 489,
    "start_time": "2021-08-16T12:05:12.098Z"
   },
   {
    "duration": 305,
    "start_time": "2021-08-16T12:05:41.082Z"
   },
   {
    "duration": 24,
    "start_time": "2021-08-16T12:05:46.273Z"
   },
   {
    "duration": 1130,
    "start_time": "2021-08-17T01:09:02.167Z"
   },
   {
    "duration": 487,
    "start_time": "2021-08-17T01:09:05.033Z"
   },
   {
    "duration": 17,
    "start_time": "2021-08-17T01:09:10.818Z"
   },
   {
    "duration": 5,
    "start_time": "2021-08-17T01:09:12.000Z"
   },
   {
    "duration": 15,
    "start_time": "2021-08-17T01:09:36.081Z"
   },
   {
    "duration": 35,
    "start_time": "2021-08-17T01:09:38.067Z"
   },
   {
    "duration": 37,
    "start_time": "2021-08-17T01:09:40.277Z"
   },
   {
    "duration": 10,
    "start_time": "2021-08-17T01:09:42.297Z"
   },
   {
    "duration": 6,
    "start_time": "2021-08-17T01:09:42.447Z"
   },
   {
    "duration": 9,
    "start_time": "2021-08-17T01:09:44.566Z"
   },
   {
    "duration": 29,
    "start_time": "2021-08-17T01:09:44.947Z"
   },
   {
    "duration": 9,
    "start_time": "2021-08-17T01:09:50.217Z"
   },
   {
    "duration": 22,
    "start_time": "2021-08-17T01:09:50.547Z"
   },
   {
    "duration": 18,
    "start_time": "2021-08-17T01:09:51.067Z"
   },
   {
    "duration": 23,
    "start_time": "2021-08-17T01:09:59.002Z"
   },
   {
    "duration": 5,
    "start_time": "2021-08-17T01:09:59.824Z"
   },
   {
    "duration": 4,
    "start_time": "2021-08-17T01:10:00.255Z"
   },
   {
    "duration": 5,
    "start_time": "2021-08-17T01:10:00.674Z"
   },
   {
    "duration": 15,
    "start_time": "2021-08-17T01:10:03.631Z"
   },
   {
    "duration": 21,
    "start_time": "2021-08-17T01:11:08.670Z"
   },
   {
    "duration": 34,
    "start_time": "2021-08-17T01:11:09.151Z"
   },
   {
    "duration": 25,
    "start_time": "2021-08-17T01:11:20.559Z"
   },
   {
    "duration": 4,
    "start_time": "2021-08-17T01:12:21.561Z"
   },
   {
    "duration": 10,
    "start_time": "2021-08-17T01:17:57.680Z"
   },
   {
    "duration": 311,
    "start_time": "2021-08-17T01:18:07.097Z"
   },
   {
    "duration": 309,
    "start_time": "2021-08-17T01:18:20.409Z"
   },
   {
    "duration": 119,
    "start_time": "2021-08-17T01:18:43.204Z"
   },
   {
    "duration": 429,
    "start_time": "2021-08-17T01:18:48.583Z"
   },
   {
    "duration": 4,
    "start_time": "2021-08-17T01:18:53.007Z"
   },
   {
    "duration": 2594,
    "start_time": "2021-08-17T01:18:54.607Z"
   },
   {
    "duration": 10,
    "start_time": "2021-08-17T01:19:08.195Z"
   },
   {
    "duration": 14,
    "start_time": "2021-08-17T01:19:10.327Z"
   },
   {
    "duration": 3,
    "start_time": "2021-08-17T01:19:26.447Z"
   },
   {
    "duration": 19,
    "start_time": "2021-08-17T01:19:26.615Z"
   },
   {
    "duration": 11,
    "start_time": "2021-08-17T01:19:28.464Z"
   }
  ],
  "kernelspec": {
   "display_name": "Python 3",
   "language": "python",
   "name": "python3"
  },
  "language_info": {
   "codemirror_mode": {
    "name": "ipython",
    "version": 3
   },
   "file_extension": ".py",
   "mimetype": "text/x-python",
   "name": "python",
   "nbconvert_exporter": "python",
   "pygments_lexer": "ipython3",
   "version": "3.7.8"
  },
  "toc": {
   "base_numbering": 1,
   "nav_menu": {},
   "number_sections": true,
   "sideBar": true,
   "skip_h1_title": true,
   "title_cell": "Table of Contents",
   "title_sidebar": "Contents",
   "toc_cell": false,
   "toc_position": {},
   "toc_section_display": true,
   "toc_window_display": false
  }
 },
 "nbformat": 4,
 "nbformat_minor": 2
}
